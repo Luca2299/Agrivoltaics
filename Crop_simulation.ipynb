{
 "cells": [
  {
   "cell_type": "markdown",
   "id": "286f3808-78ad-42b1-bfac-0fceea2cb07d",
   "metadata": {},
   "source": [
    "# Crop simulation"
   ]
  },
  {
   "cell_type": "markdown",
   "id": "4287909f-b4ed-41b5-ab1c-634d94c852b0",
   "metadata": {},
   "source": [
    "Doing imports "
   ]
  },
  {
   "cell_type": "code",
   "execution_count": 16,
   "id": "26fbf1c6-6c3d-4c38-96a9-a9851d02fd1d",
   "metadata": {},
   "outputs": [
    {
     "name": "stdout",
     "output_type": "stream",
     "text": [
      "This notebook was built with:\n",
      "python version: 3.10.16 | packaged by Anaconda, Inc. | (main, Dec 11 2024, 16:19:12) [MSC v.1929 64 bit (AMD64)]\n",
      "PCSE version: 6.0.9\n"
     ]
    }
   ],
   "source": [
    "%matplotlib inline\n",
    "#%matplotlib notebook\n",
    "import sys\n",
    "import pcse\n",
    "import pandas as pd \n",
    "import matplotlib\n",
    "matplotlib.style.use(\"ggplot\")\n",
    "import matplotlib.pyplot as plt\n",
    "print(\"This notebook was built with:\")\n",
    "print(f\"python version: {sys.version}\")\n",
    "print(f\"PCSE version: {pcse.__version__}\")"
   ]
  },
  {
   "cell_type": "markdown",
   "id": "8f74784a",
   "metadata": {},
   "source": [
    "## Transform the data into the right units\n"
   ]
  },
  {
   "cell_type": "markdown",
   "id": "9c75d86c",
   "metadata": {},
   "source": [
    "| Identifier | Parameter   | Description                              | From Unit  | To Unit           | Dataset |\n",
    "|------------|-------------|------------------------------------------|------------|-------------------|---------|\n",
    "| TXK        | TMAX        | Daily maximum temperature                | °C         | °C                | KL      |\n",
    "| TNK        | TMIN        | Daily minimum temperature                | °C         | °C                | KL      |\n",
    "| VPM        | VAP         | Mean daily vapour pressure               | hPa        | hPa               | KL      |\n",
    "| FM         | WIND        | Mean daily wind speed at 2 m above ground level | m/s        | m/s       | KL      |\n",
    "| RSK        | RAIN        | Precipitation                            | mm         | cm   | KL      |\n",
    "| FG_STRAHL  | IRRAD       | Daily global radiation                   | J/cm^2     | J/m^{-2} | Solar   |\n",
    "| SHK_TAG    | SNOWDEPTH   | Depth of snow cover (optional)           | cm         | cm                | KL      |"
   ]
  },
  {
   "cell_type": "markdown",
   "id": "39a196f1",
   "metadata": {},
   "source": [
    "#### Climate data"
   ]
  },
  {
   "cell_type": "code",
   "execution_count": 17,
   "id": "97890d92",
   "metadata": {},
   "outputs": [],
   "source": [
    "# Read the text file into a DataFrame\n",
    "data_bremen_kl = pd.read_csv('data_kl/bremen_daily_kl/tageswerte_KL_00691_18900101_20231231_hist/produkt_klima_tag_18900101_20231231_00691.txt', delimiter=';', skipfooter=1, engine='python')\n",
    "\n",
    "data_chemnitz_kl = pd.read_csv('data_kl/chemnitz_daily_kl/tageswerte_KL_00853_18820101_20231231_hist/produkt_klima_tag_18820101_20231231_00853.txt', delimiter=';', skipfooter=1, engine='python')\n",
    "\n",
    "# Convert units -> mm to cm, ensuring column names are stripped of extra spaces\n",
    "data_bremen_kl.columns = data_bremen_kl.columns.str.strip()\n",
    "data_chemnitz_kl.columns = data_chemnitz_kl.columns.str.strip()\n",
    "\n",
    "# store data as xlsx\n",
    "# data_bremen_kl.to_excel('bremen_daily_kl.xlsx', index=False)\n",
    "# data_chemnitz_kl.to_excel('chemnitz_daily_kl.xlsx', index=False)"
   ]
  },
  {
   "cell_type": "markdown",
   "id": "e4dd5427",
   "metadata": {},
   "source": [
    "#### Temperature data"
   ]
  },
  {
   "cell_type": "code",
   "execution_count": 18,
   "id": "2067ac73",
   "metadata": {},
   "outputs": [],
   "source": [
    "# Read the text file into a DataFrame\n",
    "data_bremen_solar = pd.read_csv('data_solar/bremen/tageswerte_ST_00691_row/produkt_st_tag_20090101_20250331_00691.txt', delimiter=';', skipfooter=1, engine='python')\n",
    "\n",
    "data_chemnitz_solar = pd.read_csv('data_solar/chemnitz/tageswerte_ST_00853_row/produkt_st_tag_19810101_20250331_00853.txt', delimiter=';', skipfooter=1, engine='python')\n",
    "\n",
    "# store data as xlsx\n",
    "# data_bremen_solar.to_excel('bremen_daily_solar.xlsx', index=False)\n",
    "# data_chemnitz_solar.to_excel('chemnitz_daily_solar.xlsx', index=False)"
   ]
  },
  {
   "cell_type": "markdown",
   "id": "deea887d",
   "metadata": {},
   "source": [
    "### Transform to PCSE data format"
   ]
  },
  {
   "cell_type": "code",
   "execution_count": 19,
   "id": "af8a136d",
   "metadata": {},
   "outputs": [
    {
     "name": "stdout",
     "output_type": "stream",
     "text": [
      "            DAY  TMIN  TMAX  VAP  RAIN      IRRAD   WIND  Angstrom_A  \\\n",
      "0      18900101  -5.5  -1.4  4.4  0.02  2660000.0 -999.0        0.25   \n",
      "1      18900102  -7.4  -3.3  4.1  0.00  2610000.0 -999.0        0.25   \n",
      "2      18900103  -3.5  -1.3  5.2  0.00  1370000.0 -999.0        0.25   \n",
      "3      18900104  -1.9   5.7  6.5  0.00   720000.0 -999.0        0.25   \n",
      "4      18900105   0.2   7.7  7.2  0.11  1870000.0 -999.0        0.25   \n",
      "...         ...   ...   ...  ...   ...        ...    ...         ...   \n",
      "48630  20231226   2.3   9.7  8.8  0.04        NaN    8.0        0.25   \n",
      "48631  20231227   0.3   8.7  7.4  0.19        NaN    3.8        0.25   \n",
      "48632  20231228   7.9  11.1  9.2  0.09        NaN    9.4        0.25   \n",
      "48633  20231229   5.4  10.8  9.1  1.13        NaN    8.4        0.25   \n",
      "48634  20231230   5.4   7.8  8.2  0.00        NaN    6.0        0.25   \n",
      "\n",
      "       Angstrom_B  \n",
      "0             0.5  \n",
      "1             0.5  \n",
      "2             0.5  \n",
      "3             0.5  \n",
      "4             0.5  \n",
      "...           ...  \n",
      "48630         0.5  \n",
      "48631         0.5  \n",
      "48632         0.5  \n",
      "48633         0.5  \n",
      "48634         0.5  \n",
      "\n",
      "[48635 rows x 9 columns]\n"
     ]
    }
   ],
   "source": [
    "# Map and transform the data to PCSE format\n",
    "# Example mapping (adjust according to your actual data):\n",
    "data_bremen_pcse = pd.DataFrame({\n",
    "    #'DAY': pd.to_datetime(data_bremen_kl['MESS_DATUM'], format='%Y%m%d'),\n",
    "    'DAY': data_bremen_kl['MESS_DATUM'],\n",
    "    'TMIN': data_bremen_kl['TNK'],  # Example: map to minimum temperature\n",
    "    'TMAX': data_bremen_kl['TXK'],  # Example: map to maximum temperature\n",
    "    'VAP': data_bremen_kl['VPM'],  # Example: map to vapor pressure\n",
    "    'RAIN': data_bremen_kl['RSK'] / 10,  # Convert mm to cm if needed\n",
    "    'IRRAD': data_bremen_solar['FG_STRAHL'] * 10000,  # Convert J/cm² to J/m²\n",
    "    'WIND': data_bremen_kl['FM'],  # Assuming this is the wind speed\n",
    "    'Angstrom_A': 0.25,  # Default Angstrom A value\n",
    "    'Angstrom_B': 0.50   # Default Angstrom B value\n",
    "    # Add other required fields as necessary\n",
    "})\n",
    "\n",
    "print(data_bremen_pcse)"
   ]
  },
  {
   "cell_type": "code",
   "execution_count": 20,
   "id": "54419a06",
   "metadata": {},
   "outputs": [
    {
     "name": "stdout",
     "output_type": "stream",
     "text": [
      "            DAY  TMIN  TMAX  VAP  RAIN      IRRAD   WIND\n",
      "0      18820101  -4.3   2.5  4.1  0.00 -9990000.0 -999.0\n",
      "1      18820102  -4.6   5.3  5.6  0.00 -9990000.0 -999.0\n",
      "2      18820103  -0.7   7.7  6.7  0.14 -9990000.0 -999.0\n",
      "3      18820104   3.0   7.5  6.8  0.06 -9990000.0 -999.0\n",
      "4      18820105   0.6   4.0  5.1  0.26 -9990000.0 -999.0\n",
      "...         ...   ...   ...  ...   ...        ...    ...\n",
      "44431  20231226   4.6   8.7  8.5  0.35        NaN   10.3\n",
      "44432  20231227   2.6   8.4  6.7  0.00        NaN    3.5\n",
      "44433  20231228   5.8   9.2  7.1  0.00        NaN    8.8\n",
      "44434  20231229   6.3   9.1  7.8  0.05        NaN   10.6\n",
      "44435  20231230   3.4   8.2  7.7  0.37        NaN    7.2\n",
      "\n",
      "[44436 rows x 7 columns]\n"
     ]
    }
   ],
   "source": [
    "# Map and transform the data to PCSE format\n",
    "# Example mapping (adjust according to your actual data):\n",
    "data_chemnitz_pcse = pd.DataFrame({\n",
    "    #'DAY': pd.to_datetime(data_chemnitz_kl['MESS_DATUM'], format='%Y%m%d'),\n",
    "    'DAY': data_chemnitz_kl['MESS_DATUM'],\n",
    "    'TMIN': data_chemnitz_kl['TNK'],  # Example: map to minimum temperature\n",
    "    'TMAX': data_chemnitz_kl['TXK'],  # Example: map to maximum temperature\n",
    "    'VAP': data_chemnitz_kl['VPM'],  # Example: map to vapor pressure\n",
    "    'RAIN': data_chemnitz_kl['RSK'] / 10,  # Convert mm to cm if needed\n",
    "    'IRRAD': data_chemnitz_solar['FG_STRAHL'] * 10000,  # Convert J/cm² to J/m²\n",
    "    'WIND': data_chemnitz_kl['FM'],  # Assuming this is the wind speed\n",
    "    # Add other required fields as necessary\n",
    "})\n",
    "\n",
    "print(data_chemnitz_pcse)"
   ]
  },
  {
   "cell_type": "code",
   "execution_count": 21,
   "id": "0d466a06",
   "metadata": {},
   "outputs": [
    {
     "ename": "PCSEError",
     "evalue": "invalid Angstrom A value!",
     "output_type": "error",
     "traceback": [
      "\u001b[1;31m---------------------------------------------------------------------------\u001b[0m",
      "\u001b[1;31mPCSEError\u001b[0m                                 Traceback (most recent call last)",
      "Cell \u001b[1;32mIn[21], line 7\u001b[0m\n\u001b[0;32m      5\u001b[0m \u001b[38;5;66;03m# Load the weather data provider\u001b[39;00m\n\u001b[0;32m      6\u001b[0m weatherfile \u001b[38;5;241m=\u001b[39m \u001b[38;5;124m\"\u001b[39m\u001b[38;5;124mbremen_daily.xlsx\u001b[39m\u001b[38;5;124m\"\u001b[39m\n\u001b[1;32m----> 7\u001b[0m weatherdataprovider \u001b[38;5;241m=\u001b[39m \u001b[43mExcelWeatherDataProvider\u001b[49m\u001b[43m(\u001b[49m\u001b[43mweatherfile\u001b[49m\u001b[43m)\u001b[49m\n\u001b[0;32m      8\u001b[0m \u001b[38;5;28mprint\u001b[39m(weatherdataprovider)\n",
      "File \u001b[1;32mc:\\Users\\krist\\anaconda3\\envs\\py3_pcse\\lib\\site-packages\\pcse\\input\\excelweatherdataprovider.py:113\u001b[0m, in \u001b[0;36mExcelWeatherDataProvider.__init__\u001b[1;34m(self, xls_fname, missing_snow_depth, force_reload)\u001b[0m\n\u001b[0;32m    110\u001b[0m sheet \u001b[38;5;241m=\u001b[39m book\u001b[38;5;241m.\u001b[39mactive\n\u001b[0;32m    112\u001b[0m \u001b[38;5;28mself\u001b[39m\u001b[38;5;241m.\u001b[39m_read_header(sheet)\n\u001b[1;32m--> 113\u001b[0m \u001b[38;5;28;43mself\u001b[39;49m\u001b[38;5;241;43m.\u001b[39;49m\u001b[43m_read_site_characteristics\u001b[49m\u001b[43m(\u001b[49m\u001b[43msheet\u001b[49m\u001b[43m)\u001b[49m\n\u001b[0;32m    114\u001b[0m \u001b[38;5;28mself\u001b[39m\u001b[38;5;241m.\u001b[39m_read_observations(sheet)\n\u001b[0;32m    116\u001b[0m \u001b[38;5;28mself\u001b[39m\u001b[38;5;241m.\u001b[39m_write_cache_file(\u001b[38;5;28mself\u001b[39m\u001b[38;5;241m.\u001b[39mfp_xls_fname)\n",
      "File \u001b[1;32mc:\\Users\\krist\\anaconda3\\envs\\py3_pcse\\lib\\site-packages\\pcse\\input\\excelweatherdataprovider.py:140\u001b[0m, in \u001b[0;36mExcelWeatherDataProvider._read_site_characteristics\u001b[1;34m(self, sheet)\u001b[0m\n\u001b[0;32m    138\u001b[0m angstA \u001b[38;5;241m=\u001b[39m \u001b[38;5;28mfloat\u001b[39m(sheet[\u001b[38;5;124mf\u001b[39m\u001b[38;5;124m\"\u001b[39m\u001b[38;5;124mD\u001b[39m\u001b[38;5;132;01m{\u001b[39;00m\u001b[38;5;28mself\u001b[39m\u001b[38;5;241m.\u001b[39msite_row\u001b[38;5;132;01m}\u001b[39;00m\u001b[38;5;124m\"\u001b[39m]\u001b[38;5;241m.\u001b[39mvalue)\n\u001b[0;32m    139\u001b[0m angstB \u001b[38;5;241m=\u001b[39m \u001b[38;5;28mfloat\u001b[39m(sheet[\u001b[38;5;124mf\u001b[39m\u001b[38;5;124m\"\u001b[39m\u001b[38;5;124mE\u001b[39m\u001b[38;5;132;01m{\u001b[39;00m\u001b[38;5;28mself\u001b[39m\u001b[38;5;241m.\u001b[39msite_row\u001b[38;5;132;01m}\u001b[39;00m\u001b[38;5;124m\"\u001b[39m]\u001b[38;5;241m.\u001b[39mvalue)\n\u001b[1;32m--> 140\u001b[0m \u001b[38;5;28mself\u001b[39m\u001b[38;5;241m.\u001b[39mangstA, \u001b[38;5;28mself\u001b[39m\u001b[38;5;241m.\u001b[39mangstB \u001b[38;5;241m=\u001b[39m \u001b[43mcheck_angstromAB\u001b[49m\u001b[43m(\u001b[49m\u001b[43mangstA\u001b[49m\u001b[43m,\u001b[49m\u001b[43m \u001b[49m\u001b[43mangstB\u001b[49m\u001b[43m)\u001b[49m\n\u001b[0;32m    141\u001b[0m \u001b[38;5;28;01mtry\u001b[39;00m:\n\u001b[0;32m    142\u001b[0m     has_sunshine \u001b[38;5;241m=\u001b[39m sheet[\u001b[38;5;124mf\u001b[39m\u001b[38;5;124m\"\u001b[39m\u001b[38;5;124mF\u001b[39m\u001b[38;5;132;01m{\u001b[39;00m\u001b[38;5;28mself\u001b[39m\u001b[38;5;241m.\u001b[39msite_row\u001b[38;5;132;01m}\u001b[39;00m\u001b[38;5;124m\"\u001b[39m]\u001b[38;5;241m.\u001b[39mvalue\n",
      "File \u001b[1;32mc:\\Users\\krist\\anaconda3\\envs\\py3_pcse\\lib\\site-packages\\pcse\\util.py:325\u001b[0m, in \u001b[0;36mcheck_angstromAB\u001b[1;34m(xA, xB)\u001b[0m\n\u001b[0;32m    323\u001b[0m \u001b[38;5;28;01mif\u001b[39;00m A \u001b[38;5;241m<\u001b[39m MIN_A \u001b[38;5;129;01mor\u001b[39;00m A \u001b[38;5;241m>\u001b[39m MAX_A:\n\u001b[0;32m    324\u001b[0m     msg \u001b[38;5;241m=\u001b[39m \u001b[38;5;124m\"\u001b[39m\u001b[38;5;124minvalid Angstrom A value!\u001b[39m\u001b[38;5;124m\"\u001b[39m\n\u001b[1;32m--> 325\u001b[0m     \u001b[38;5;28;01mraise\u001b[39;00m exc\u001b[38;5;241m.\u001b[39mPCSEError(msg)\n\u001b[0;32m    326\u001b[0m \u001b[38;5;28;01mif\u001b[39;00m B \u001b[38;5;241m<\u001b[39m MIN_B \u001b[38;5;129;01mor\u001b[39;00m B \u001b[38;5;241m>\u001b[39m MAX_B:\n\u001b[0;32m    327\u001b[0m     msg \u001b[38;5;241m=\u001b[39m \u001b[38;5;124m\"\u001b[39m\u001b[38;5;124minvalid Angstrom B value!\u001b[39m\u001b[38;5;124m\"\u001b[39m\n",
      "\u001b[1;31mPCSEError\u001b[0m: invalid Angstrom A value!"
     ]
    }
   ],
   "source": [
    "from pcse.fileinput import ExcelWeatherDataProvider\n",
    "# Ensure the file is properly created as an Excel file\n",
    "data_bremen_pcse.to_excel(\"bremen_daily.xlsx\", index=False)\n",
    "\n",
    "# Load the weather data provider\n",
    "weatherfile = \"bremen_daily.xlsx\"\n",
    "weatherdataprovider = ExcelWeatherDataProvider(weatherfile)\n",
    "print(weatherdataprovider)"
   ]
  },
  {
   "cell_type": "code",
   "execution_count": null,
   "id": "2ffc9edb",
   "metadata": {},
   "outputs": [],
   "source": []
  }
 ],
 "metadata": {
  "kernelspec": {
   "display_name": "py3_pcse",
   "language": "python",
   "name": "python3"
  },
  "language_info": {
   "codemirror_mode": {
    "name": "ipython",
    "version": 3
   },
   "file_extension": ".py",
   "mimetype": "text/x-python",
   "name": "python",
   "nbconvert_exporter": "python",
   "pygments_lexer": "ipython3",
   "version": "3.10.16"
  }
 },
 "nbformat": 4,
 "nbformat_minor": 5
}
