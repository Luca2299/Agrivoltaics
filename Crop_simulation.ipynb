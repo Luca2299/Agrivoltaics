{
 "cells": [
  {
   "cell_type": "markdown",
   "id": "286f3808-78ad-42b1-bfac-0fceea2cb07d",
   "metadata": {},
   "source": [
    "# Crop simulation"
   ]
  },
  {
   "cell_type": "markdown",
   "id": "4287909f-b4ed-41b5-ab1c-634d94c852b0",
   "metadata": {},
   "source": [
    "Doing imports "
   ]
  },
  {
   "cell_type": "code",
   "execution_count": null,
   "id": "26fbf1c6-6c3d-4c38-96a9-a9851d02fd1d",
   "metadata": {},
   "outputs": [
    {
     "name": "stdout",
     "output_type": "stream",
     "text": [
      "This notebook was built with:\n",
      "python version: 3.10.16 | packaged by Anaconda, Inc. | (main, Dec 11 2024, 16:19:12) [MSC v.1929 64 bit (AMD64)]\n",
      "PCSE version: 6.0.9\n"
     ]
    }
   ],
   "source": [
    "%matplotlib inline\n",
    "#%matplotlib notebook\n",
    "import sys\n",
    "import pcse\n",
    "import pandas\n",
    "import matplotlib\n",
    "matplotlib.style.use(\"ggplot\")\n",
    "import matplotlib.pyplot as plt\n",
    "print(\"This notebook was built with:\")\n",
    "print(f\"python version: {sys.version}\")\n",
    "print(f\"PCSE version: {pcse.__version__}\")"
   ]
  },
  {
   "cell_type": "markdown",
   "id": "8f74784a",
   "metadata": {},
   "source": [
    "## Transform the data into the right units\n"
   ]
  },
  {
   "cell_type": "markdown",
   "id": "9c75d86c",
   "metadata": {},
   "source": [
    "| Identifier | Parameter   | Description                              | From Unit  | To Unit           | Dataset |\n",
    "|------------|-------------|------------------------------------------|------------|-------------------|---------|\n",
    "| TXK        | TMAX        | Daily maximum temperature                | °C         | °C                | KL      |\n",
    "| TNK        | TMIN        | Daily minimum temperature                | °C         | °C                | KL      |\n",
    "| VPM        | VAP         | Mean daily vapour pressure               | hPa        | hPa               | KL      |\n",
    "| FM         | WIND        | Mean daily wind speed at 2 m above ground level | m/s        | m/s       | KL      |\n",
    "| RSK        | RAIN        | Precipitation                            | mm         | cm   | KL      |\n",
    "| FG_STRAHL  | IRRAD       | Daily global radiation                   | J/cm^2     | J/m^{-2} | Solar   |\n",
    "| SHK_TAG    | SNOWDEPTH   | Depth of snow cover (optional)           | cm         | cm                | KL      |"
   ]
  },
  {
   "cell_type": "code",
   "execution_count": null,
   "id": "97890d92",
   "metadata": {},
   "outputs": [],
   "source": [
    "# Read the CSV file\n",
    "data_bremen_solar = pd.read_csv('tageswerte_ST_00691')\n",
    "\n",
    "# Convert units\n",
    "# Example conversions based on the provided table:\n",
    "# Convert RSK from mm to cm/day\n",
    "df['RSK'] = df['RSK'] / 10\n",
    "\n",
    "# Convert FG_STRAHL from J/cm^2 to J/m^2/day\n",
    "df['FG_STRAHL'] = df['FG_STRAHL'] * 10000\n",
    "\n",
    "# Assuming WIND is FM, convert from m/s to m/sec^{-1} (no actual change needed)\n",
    "# df['FM'] = df['FM']  # No conversion necessary\n",
    "\n",
    "# Save the transformed data to a new CSV file\n",
    "df.to_csv('transformed_data.csv', index=False)\n",
    "\n",
    "print(\"Data transformation complete.\")"
   ]
  },
  {
   "cell_type": "markdown",
   "id": "39a196f1",
   "metadata": {},
   "source": []
  }
 ],
 "metadata": {
  "kernelspec": {
   "display_name": "Python 3 (ipykernel)",
   "language": "python",
   "name": "python3"
  },
  "language_info": {
   "codemirror_mode": {
    "name": "ipython",
    "version": 3
   },
   "file_extension": ".py",
   "mimetype": "text/x-python",
   "name": "python",
   "nbconvert_exporter": "python",
   "pygments_lexer": "ipython3",
   "version": "3.10.16"
  }
 },
 "nbformat": 4,
 "nbformat_minor": 5
}
