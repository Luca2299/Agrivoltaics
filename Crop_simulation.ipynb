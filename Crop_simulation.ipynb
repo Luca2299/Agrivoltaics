{
 "cells": [
  {
   "cell_type": "markdown",
   "id": "286f3808-78ad-42b1-bfac-0fceea2cb07d",
   "metadata": {},
   "source": [
    "# Crop simulation"
   ]
  },
  {
   "cell_type": "markdown",
   "id": "4287909f-b4ed-41b5-ab1c-634d94c852b0",
   "metadata": {},
   "source": [
    "Doing imports "
   ]
  },
  {
   "cell_type": "code",
   "execution_count": null,
   "id": "26fbf1c6-6c3d-4c38-96a9-a9851d02fd1d",
   "metadata": {},
   "outputs": [
    {
     "name": "stdout",
     "output_type": "stream",
     "text": [
      "This notebook was built with:\n",
      "python version: 3.10.16 | packaged by Anaconda, Inc. | (main, Dec 11 2024, 16:19:12) [MSC v.1929 64 bit (AMD64)]\n",
      "PCSE version: 6.0.9\n"
     ]
    }
   ],
   "source": [
    "%matplotlib inline\n",
    "#%matplotlib notebook\n",
    "import sys\n",
    "import pcse\n",
    "import pandas as pd\n",
    "import matplotlib\n",
    "matplotlib.style.use(\"ggplot\")\n",
    "import matplotlib.pyplot as plt\n",
    "print(\"This notebook was built with:\")\n",
    "print(f\"python version: {sys.version}\")\n",
    "print(f\"PCSE version: {pcse.__version__}\")"
   ]
  },
  {
   "cell_type": "markdown",
   "id": "a47fb8ab",
   "metadata": {},
   "source": [
    "Import the crop, site, soil and agro data"
   ]
  },
  {
   "cell_type": "code",
   "execution_count": null,
   "id": "26c9ac79-6bcb-4da7-a1a3-d31567cf5420",
   "metadata": {},
   "outputs": [],
   "source": [
    "from pcse.util import DummySoilDataProvider\n",
    "from pcse.input import WOFOST72SiteDataProvider \n",
    "import yaml\n",
    "from pcse.base import ParameterProvider\n",
    "\n",
    "#load crop file\n",
    "with open('data/crop/potato.yaml', 'r') as file: #alternative: from pcse.input import YAMLCropDataProvider\n",
    "    yaml_file = yaml.safe_load(file)\n",
    "\n",
    "#flatten crop file: remove the nested structure\n",
    "def flatten_nested_dict(d):\n",
    "    flat = {}\n",
    "    for k, v in d.items():\n",
    "        if isinstance(v, dict):\n",
    "            flat.update(flatten_nested_dict(v))  # flatten recursively\n",
    "        else:\n",
    "            flat[k] = v\n",
    "    return flat\n",
    "\n",
    "cropd = {}\n",
    "for subdict in yaml_file[\"CropParameters\"].values():\n",
    "    if isinstance(subdict, dict):\n",
    "        cropd.update(flatten_nested_dict(subdict))\n",
    "\n",
    "#export to .yaml file (only for debugging purpose)\n",
    "with open(\"flattened_crop.yaml\", \"w\") as f_out:\n",
    "    yaml.dump(cropd, f_out, default_flow_style=False)\n",
    "\n",
    "#load dummy soil file\n",
    "soild = DummySoilDataProvider() #use dummy soil: https://pcse.readthedocs.io/en/stable/code.html#pcse.util.DummySoilDataProvider\n",
    "\n",
    "#load some standard site, WAV = initial soil moisture\n",
    "sited = WOFOST72SiteDataProvider(WAV=10) #https://pcse.readthedocs.io/en/stable/code.html#wofost72sitedataprovider\n",
    "\n",
    "#put everything together with ParameterProvider\n",
    "parameters = ParameterProvider(cropdata=cropd, soildata=soild, sitedata=sited)\n",
    "\n",
    "#agro file (is not completed yet)\n",
    "with open('data/agro/potato_agro_test.yaml', 'r') as file:\n",
    "    agromanagement = yaml.safe_load(file)"
   ]
  },
  {
   "cell_type": "markdown",
   "id": "a6d2ba23",
   "metadata": {},
   "source": [
    "running the model with the given files"
   ]
  },
  {
   "cell_type": "code",
   "execution_count": null,
   "id": "8e4870bb",
   "metadata": {},
   "outputs": [],
   "source": [
    "#running the model\n",
    "from pcse.models import Wofost72_WLP_CWB, Wofost72_PP\n",
    "wofsim = Wofost72_WLP_CWB(parameters, weatherdataprovider, agromanagement)\n",
    "\n",
    "wofsim.run(days=10)\n",
    "df_results = pd.DataFrame(wofsim.get_output())\n",
    "df_results = df_results.set_index(\"day\")\n",
    "df_results.tail()"
   ]
  }
 ],
 "metadata": {
  "kernelspec": {
   "display_name": "Python 3 (ipykernel)",
   "language": "python",
   "name": "python3"
  },
  "language_info": {
   "codemirror_mode": {
    "name": "ipython",
    "version": 3
   },
   "file_extension": ".py",
   "mimetype": "text/x-python",
   "name": "python",
   "nbconvert_exporter": "python",
   "pygments_lexer": "ipython3",
   "version": "3.10.16"
  }
 },
 "nbformat": 4,
 "nbformat_minor": 5
}
