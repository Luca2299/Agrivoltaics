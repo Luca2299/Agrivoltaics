{
 "cells": [
  {
   "cell_type": "markdown",
   "id": "286f3808-78ad-42b1-bfac-0fceea2cb07d",
   "metadata": {},
   "source": [
    "# Crop simulation"
   ]
  },
  {
   "cell_type": "markdown",
   "id": "4287909f-b4ed-41b5-ab1c-634d94c852b0",
   "metadata": {},
   "source": [
    "Doing imports "
   ]
  },
  {
   "cell_type": "code",
   "execution_count": 51,
   "id": "26fbf1c6-6c3d-4c38-96a9-a9851d02fd1d",
   "metadata": {},
   "outputs": [
    {
     "name": "stdout",
     "output_type": "stream",
     "text": [
      "This notebook was built with:\n",
      "python version: 3.10.16 | packaged by Anaconda, Inc. | (main, Dec 11 2024, 16:19:12) [MSC v.1929 64 bit (AMD64)]\n",
      "PCSE version: 6.0.9\n"
     ]
    }
   ],
   "source": [
    "%matplotlib inline\n",
    "#%matplotlib notebook\n",
    "import sys\n",
    "import pcse\n",
    "import pandas as pd\n",
    "import numpy as np\n",
    "import matplotlib\n",
    "matplotlib.style.use(\"ggplot\")\n",
    "import matplotlib.pyplot as plt\n",
    "print(\"This notebook was built with:\")\n",
    "print(f\"python version: {sys.version}\")\n",
    "print(f\"PCSE version: {pcse.__version__}\")"
   ]
  },
  {
   "cell_type": "markdown",
   "id": "a34f23d0",
   "metadata": {},
   "source": [
    "## Weather & Solar data "
   ]
  },
  {
   "cell_type": "markdown",
   "id": "a47fb8ab",
   "metadata": {},
   "source": [
    "### 1. Transform the data into the right units\n"
   ]
  },
  {
   "cell_type": "markdown",
   "id": "9c75d86c",
   "metadata": {},
   "source": [
    "| Identifier | Parameter   | Description                              | From Unit  | To Unit           | Dataset |\n",
    "|------------|-------------|------------------------------------------|------------|-------------------|---------|\n",
    "| TXK        | TMAX        | Daily maximum temperature                | °C         | °C                | KL      |\n",
    "| TNK        | TMIN        | Daily minimum temperature                | °C         | °C                | KL      |\n",
    "| VPM        | VAP         | Mean daily vapour pressure               | hPa        | hPa               | KL      |\n",
    "| FM         | WIND        | Mean daily wind speed at 2 m above ground level | m/s        | m/s       | KL      |\n",
    "| RSK        | RAIN        | Precipitation                            | mm         | cm   | KL      |\n",
    "| FG_STRAHL  | IRRAD       | Daily global radiation                   | J/cm^2     | J/m^{-2} | Solar   |\n",
    "| SHK_TAG    | SNOWDEPTH   | Depth of snow cover (optional)           | cm         | cm                | KL      |"
   ]
  },
  {
   "cell_type": "markdown",
   "id": "39a196f1",
   "metadata": {},
   "source": [
    "##### Climate data"
   ]
  },
  {
   "cell_type": "code",
   "execution_count": 52,
   "id": "97890d92",
   "metadata": {},
   "outputs": [],
   "source": [
    "# Read the text file into a DataFrame\n",
    "data_bremen_kl = pd.read_csv('data_kl/bremen_daily_kl/tageswerte_KL_00691_18900101_20231231_hist/produkt_klima_tag_18900101_20231231_00691.txt', delimiter=';', skipfooter=1, engine='python')\n",
    "\n",
    "data_chemnitz_kl = pd.read_csv('data_kl/chemnitz_daily_kl/tageswerte_KL_00853_18820101_20231231_hist/produkt_klima_tag_18820101_20231231_00853.txt', delimiter=';', skipfooter=1, engine='python')\n",
    "\n",
    "# Convert units -> mm to cm, ensuring column names are stripped of extra spaces\n",
    "data_bremen_kl.columns = data_bremen_kl.columns.str.strip()\n",
    "data_chemnitz_kl.columns = data_chemnitz_kl.columns.str.strip()\n",
    "\n",
    "# Replace -999 with NaN\n",
    "data_bremen_kl.replace(-999, np.nan, inplace=True)\n",
    "data_chemnitz_kl.replace(-999, np.nan, inplace=True)\n"
   ]
  },
  {
   "cell_type": "markdown",
   "id": "e4dd5427",
   "metadata": {},
   "source": [
    "##### Solar data"
   ]
  },
  {
   "cell_type": "code",
   "execution_count": 53,
   "id": "2067ac73",
   "metadata": {},
   "outputs": [],
   "source": [
    "# Read the text file into a DataFrame\n",
    "data_bremen_solar = pd.read_csv('data_solar/bremen/tageswerte_ST_00691_row/produkt_st_tag_20090101_20250331_00691.txt', delimiter=';', skipfooter=1, engine='python')\n",
    "\n",
    "data_chemnitz_solar = pd.read_csv('data_solar/chemnitz/tageswerte_ST_00853_row/produkt_st_tag_19810101_20250331_00853.txt', delimiter=';', skipfooter=1, engine='python')\n",
    "\n",
    "# drop the 'eor' column from the DataFrame\n",
    "# data_bremen_solar.drop(columns=['eor'], inplace=True)\n",
    "\n",
    "# Replace -999 with NaN\n",
    "data_bremen_solar.replace(-999, np.nan, inplace=True)\n",
    "data_chemnitz_solar.replace(-999, np.nan, inplace=True)"
   ]
  },
  {
   "cell_type": "markdown",
   "id": "4799f84c",
   "metadata": {},
   "source": [
    "##### Find the rows without NaNs\n"
   ]
  },
  {
   "cell_type": "code",
   "execution_count": 54,
   "id": "c31546e9",
   "metadata": {},
   "outputs": [
    {
     "name": "stdout",
     "output_type": "stream",
     "text": [
      "Bremen Solar Data without NaNs:\n",
      "Empty DataFrame\n",
      "Columns: [STATIONS_ID, MESS_DATUM, QN_592, ATMO_STRAHL, FD_STRAHL, FG_STRAHL, SD_STRAHL, eor]\n",
      "Index: []\n",
      "Chemnitz Solar Data without NaNs:\n",
      "Empty DataFrame\n",
      "Columns: [STATIONS_ID, MESS_DATUM, QN_592, ATMO_STRAHL, FD_STRAHL, FG_STRAHL, SD_STRAHL, eor]\n",
      "Index: []\n"
     ]
    }
   ],
   "source": [
    "# Create a boolean mask for rows without NaN values\n",
    "mask_bremen = data_bremen_solar.notna().all(axis=1)\n",
    "mask_chemnitz = data_chemnitz_solar.notna().all(axis=1)\n",
    "\n",
    "# Filter and print the rows without NaN values\n",
    "data_bremen_solar_cleaned = data_bremen_solar[mask_bremen]\n",
    "data_chemnitz_solar_cleaned = data_chemnitz_solar[mask_chemnitz]\n",
    "\n",
    "print(\"Bremen Solar Data without NaNs:\")\n",
    "print(data_bremen_solar_cleaned)\n",
    "\n",
    "print(\"Chemnitz Solar Data without NaNs:\")\n",
    "print(data_chemnitz_solar_cleaned)"
   ]
  },
  {
   "cell_type": "markdown",
   "id": "deea887d",
   "metadata": {},
   "source": [
    "### 2. Transform to PCSE data format"
   ]
  },
  {
   "cell_type": "code",
   "execution_count": 55,
   "id": "af8a136d",
   "metadata": {},
   "outputs": [],
   "source": [
    "# Map and transform the data to PCSE format\n",
    "data_bremen_pcse = pd.DataFrame({\n",
    "    #'DAY': pd.to_datetime(data_bremen_kl['MESS_DATUM'], format='%Y%m%d'),\n",
    "    'DAY': data_bremen_kl['MESS_DATUM'],\n",
    "    'IRRAD': data_bremen_solar['FG_STRAHL'] * 10000,  # Convert J/cm² to J/m²\n",
    "    'TMIN': data_bremen_kl['TNK'],  # Example: map to minimum temperature\n",
    "    'TMAX': data_bremen_kl['TXK'],  # Example: map to maximum temperature\n",
    "    'VAP': data_bremen_kl['VPM'],  # Example: map to vapor pressure\n",
    "    'WIND': data_bremen_kl['FM'],  # Assuming this is the wind speed\n",
    "    'RAIN': data_bremen_kl['RSK'] / 10,  # Convert mm to cm\n",
    "    'SNOW': np.nan # -999  # Fill snow depth with NaN\n",
    "})\n",
    "#print(data_bremen_pcse)\n",
    "\n",
    "#data_bremen_pcse.replace(np.nan, int(-999), inplace=True)\n",
    "#data_bremen_pcse['IRRAD'] = data_chemnitz_pcse['IRRAD'].astype(int)"
   ]
  },
  {
   "cell_type": "code",
   "execution_count": 56,
   "id": "54419a06",
   "metadata": {},
   "outputs": [],
   "source": [
    "# Map and transform the data to PCSE format\n",
    "data_chemnitz_pcse = pd.DataFrame({\n",
    "    #'DAY': pd.to_datetime(data_chemnitz_kl['MESS_DATUM'], format='%Y%m%d'),\n",
    "    'DAY': data_chemnitz_kl['MESS_DATUM'],\n",
    "    'IRRAD': data_chemnitz_solar['FG_STRAHL'] * 10000,  # Convert J/cm² to J/m²\n",
    "    'TMIN': data_chemnitz_kl['TNK'],  # Example: map to minimum temperature\n",
    "    'TMAX': data_chemnitz_kl['TXK'],  # Example: map to maximum temperature\n",
    "    'VAP': data_chemnitz_kl['VPM'],  # Example: map to vapor pressure\n",
    "    'WIND': data_chemnitz_kl['FM'],  # Assuming this is the wind speed\n",
    "    'RAIN': data_chemnitz_kl['RSK'] / 10,  # Convert mm to cm if needed\n",
    "    'SNOW': np.nan  # Fill snow depth with NaN\n",
    "})\n",
    "\n",
    "#print(data_chemnitz_pcse)\n",
    "\n",
    "#data_chemnitz_pcse.replace(np.nan, int(-999), inplace=True)\n",
    "#data_chemnitz_pcse['your_column_name'].replace(np.nan, -999, inplace=True)\n",
    "#data_chemnitz_pcse['IRRAD'] = data_chemnitz_pcse['IRRAD'].astype(int)\n"
   ]
  },
  {
   "cell_type": "markdown",
   "id": "89b7b71c",
   "metadata": {},
   "source": [
    "##### Write to CSV file without site characteristics / meta data"
   ]
  },
  {
   "cell_type": "code",
   "execution_count": 60,
   "id": "fe7e9de5",
   "metadata": {},
   "outputs": [],
   "source": [
    "# Write to CSV file without site characteristics / meta data\n",
    "data_chemnitz_pcse.to_csv('CSV_chemnitz_pcse_ohneMeta.csv', index=False, na_rep='NaN')\n",
    "data_bremen_pcse.to_csv('CSV_bremen_pcse_ohneMeta.csv', index=False, na_rep='NaN')"
   ]
  },
  {
   "cell_type": "markdown",
   "id": "6c53414b",
   "metadata": {},
   "source": [
    "### 3. Insert site characteristics into the CSV"
   ]
  },
  {
   "cell_type": "code",
   "execution_count": 65,
   "id": "8673f6f8",
   "metadata": {},
   "outputs": [
    {
     "name": "stdout",
     "output_type": "stream",
     "text": [
      "CSV file with site characteristics created.\n"
     ]
    }
   ],
   "source": [
    "# Site characteristics as a string\n",
    "site_characteristics = \"\"\"## Site Characteristics\n",
    "Country     = 'Germany'\n",
    "Station     = 'Chemnitz'\n",
    "Description = 'Observed data from Station Chemnitz'\n",
    "Source      = 'Your Data Source'\n",
    "Contact     = 'Your Contact'\n",
    "Longitude = 12.92; Latitude = 50.83; Elevation = 300; AngstromA = 0.25; AngstromB = 0.50; HasSunshine = False\n",
    "## Daily weather observations (missing values are NaN)\n",
    "\"\"\"\n",
    "\n",
    "# Filter the data for a specific date range (e.g., from 2009-01-01 to 2023-12-31)\n",
    "csv_data = data_chemnitz_pcse[data_chemnitz_pcse['DAY'] >= 20090101]\n",
    "\n",
    "# Convert DataFrame to CSV string\n",
    "csv_data = csv_data.to_csv(index=False, na_rep='NaN')\n",
    "\n",
    "# Combine site characteristics and CSV data\n",
    "full_csv_content = site_characteristics + csv_data\n",
    "\n",
    "# Write to CSV file\n",
    "with open('chemnitz_withMeta.csv', 'w', newline='') as f:\n",
    "    f.write(full_csv_content)\n",
    "    #f.write(csv_data)\n",
    "\n",
    "print(\"CSV file with site characteristics created.\")"
   ]
  },
  {
   "cell_type": "code",
   "execution_count": 66,
   "id": "4d110b88",
   "metadata": {},
   "outputs": [
    {
     "name": "stdout",
     "output_type": "stream",
     "text": [
      "Column names in the CSV: Index(['DAY', 'IRRAD', 'TMIN', 'TMAX', 'VAP', 'WIND', 'RAIN', 'SNOW'], dtype='object')\n",
      "0    20090101\n",
      "Name: DAY, dtype: int64\n"
     ]
    }
   ],
   "source": [
    "# Read the CSV file and inspect the column names\n",
    "day_test = pd.read_csv('chemnitz_withMeta.csv', delimiter=',', skiprows=8, nrows=1)\n",
    "print(\"Column names in the CSV:\", day_test.columns)\n",
    "\n",
    "# Ensure the 'DAY' column exists and access it correctly\n",
    "if 'DAY' in day_test.columns:\n",
    "\tprint(day_test['DAY'])\n",
    "else:\n",
    "\tprint(\"The 'DAY' column does not exist in the CSV file.\")"
   ]
  },
  {
   "cell_type": "code",
   "execution_count": 70,
   "id": "dff797dd",
   "metadata": {},
   "outputs": [
    {
     "name": "stdout",
     "output_type": "stream",
     "text": [
      "CSV file 'chemnitz_minimal_example.csv' created successfully.\n"
     ]
    }
   ],
   "source": [
    "# Define the CSV content\n",
    "csv_content = \"\"\"## Site Characteristics\n",
    "Country='Germany'; Station='Chemnitz'; Description='Observed data'; Source='Your Source'; Contact='Your Contact'; Longitude=12.92; Latitude=50.83; Elevation=300; AngstromA=0.25; AngstromB=0.50; HasSunshine=False\n",
    "## Daily weather observations (missing values are NaN)\n",
    "DAY,IRRAD,TMIN,TMAX,VAP,WIND,RAIN,SNOW\n",
    "20090101,100,0,-5,1,2,0,0\n",
    "20090102,150,1,-4,2,3,0,0\n",
    "\"\"\"\n",
    "\n",
    "# Write to the CSV file\n",
    "with open('chemnitz_minimal_example.csv', 'w', newline='') as f:\n",
    "    f.write(csv_content)\n",
    "\n",
    "print(\"CSV file 'chemnitz_minimal_example.csv' created successfully.\")"
   ]
  },
  {
   "cell_type": "code",
   "execution_count": 71,
   "id": "66c0f103",
   "metadata": {},
   "outputs": [
    {
     "name": "stdout",
     "output_type": "stream",
     "text": [
      "['## Site Characteristics']\n",
      "[\"Country='Germany'; Station='Chemnitz'; Description='Observed data'; Source='Your Source'; Contact='Your Contact'; Longitude=12.92; Latitude=50.83; Elevation=300; AngstromA=0.25; AngstromB=0.50; HasSunshine=False\"]\n",
      "['## Daily weather observations (missing values are NaN)']\n",
      "['DAY', 'IRRAD', 'TMIN', 'TMAX', 'VAP', 'WIND', 'RAIN', 'SNOW']\n",
      "['20090101', '100', '0', '-5', '1', '2', '0', '0']\n",
      "['20090102', '150', '1', '-4', '2', '3', '0', '0']\n"
     ]
    },
    {
     "ename": "AssertionError",
     "evalue": "Invalid sunshine duration value (100.0) encountered at day 2009-01-01",
     "output_type": "error",
     "traceback": [
      "\u001b[1;31m---------------------------------------------------------------------------\u001b[0m",
      "\u001b[1;31mAssertionError\u001b[0m                            Traceback (most recent call last)",
      "Cell \u001b[1;32mIn[71], line 15\u001b[0m\n\u001b[0;32m     12\u001b[0m     \u001b[38;5;28;01mfor\u001b[39;00m row \u001b[38;5;129;01min\u001b[39;00m reader:\n\u001b[0;32m     13\u001b[0m         \u001b[38;5;28mprint\u001b[39m(row)  \u001b[38;5;66;03m# Print each row as a list\u001b[39;00m\n\u001b[1;32m---> 15\u001b[0m weatherdataprovider \u001b[38;5;241m=\u001b[39m \u001b[43mCSVWeatherDataProvider\u001b[49m\u001b[43m(\u001b[49m\u001b[43mweatherfile\u001b[49m\u001b[43m)\u001b[49m\n\u001b[0;32m     17\u001b[0m \u001b[38;5;66;03m# Debugging: Inspect the first and last date\u001b[39;00m\n\u001b[0;32m     18\u001b[0m \u001b[38;5;28mprint\u001b[39m(\u001b[38;5;124mf\u001b[39m\u001b[38;5;124m\"\u001b[39m\u001b[38;5;124mFirst date: \u001b[39m\u001b[38;5;132;01m{\u001b[39;00mweatherdataprovider\u001b[38;5;241m.\u001b[39mfirst_date\u001b[38;5;132;01m}\u001b[39;00m\u001b[38;5;124m\"\u001b[39m)\n",
      "File \u001b[1;32mc:\\Users\\krist\\anaconda3\\envs\\py3_pcse\\lib\\site-packages\\pcse\\input\\csvweatherdataprovider.py:157\u001b[0m, in \u001b[0;36mCSVWeatherDataProvider.__init__\u001b[1;34m(self, csv_fname, delimiter, dateformat, ETmodel, force_reload)\u001b[0m\n\u001b[0;32m    155\u001b[0m     csv_file\u001b[38;5;241m.\u001b[39mreadline()  \u001b[38;5;66;03m# Skip first line\u001b[39;00m\n\u001b[0;32m    156\u001b[0m     \u001b[38;5;28mself\u001b[39m\u001b[38;5;241m.\u001b[39m_read_meta(csv_file)\n\u001b[1;32m--> 157\u001b[0m     \u001b[38;5;28;43mself\u001b[39;49m\u001b[38;5;241;43m.\u001b[39;49m\u001b[43m_read_observations\u001b[49m\u001b[43m(\u001b[49m\u001b[43mcsv_file\u001b[49m\u001b[43m,\u001b[49m\u001b[43m \u001b[49m\u001b[43mdelimiter\u001b[49m\u001b[43m)\u001b[49m\n\u001b[0;32m    158\u001b[0m \u001b[38;5;28mself\u001b[39m\u001b[38;5;241m.\u001b[39m_write_cache_file(\u001b[38;5;28mself\u001b[39m\u001b[38;5;241m.\u001b[39mfp_csv_fname)\n",
      "File \u001b[1;32mc:\\Users\\krist\\anaconda3\\envs\\py3_pcse\\lib\\site-packages\\pcse\\input\\csvweatherdataprovider.py:202\u001b[0m, in \u001b[0;36mCSVWeatherDataProvider._read_observations\u001b[1;34m(self, csv_file, delimiter)\u001b[0m\n\u001b[0;32m    200\u001b[0m func \u001b[38;5;241m=\u001b[39m \u001b[38;5;28mself\u001b[39m\u001b[38;5;241m.\u001b[39mobs_conversions[label]\n\u001b[0;32m    201\u001b[0m value \u001b[38;5;241m=\u001b[39m \u001b[38;5;28mfloat\u001b[39m(d[label])\n\u001b[1;32m--> 202\u001b[0m r \u001b[38;5;241m=\u001b[39m \u001b[43mfunc\u001b[49m\u001b[43m(\u001b[49m\u001b[43mvalue\u001b[49m\u001b[43m,\u001b[49m\u001b[43m \u001b[49m\u001b[43mday\u001b[49m\u001b[43m)\u001b[49m\n\u001b[0;32m    203\u001b[0m \u001b[38;5;28;01mif\u001b[39;00m math\u001b[38;5;241m.\u001b[39misnan(r):\n\u001b[0;32m    204\u001b[0m     \u001b[38;5;28;01mif\u001b[39;00m label \u001b[38;5;241m==\u001b[39m \u001b[38;5;124m\"\u001b[39m\u001b[38;5;124mSNOWDEPTH\u001b[39m\u001b[38;5;124m\"\u001b[39m:\n",
      "File \u001b[1;32mc:\\Users\\krist\\anaconda3\\envs\\py3_pcse\\lib\\site-packages\\pcse\\input\\csvweatherdataprovider.py:46\u001b[0m, in \u001b[0;36mIRRADFromSunshineDuration.__call__\u001b[1;34m(self, value, day)\u001b[0m\n\u001b[0;32m     39\u001b[0m \u001b[38;5;28;01mdef\u001b[39;00m\u001b[38;5;250m \u001b[39m\u001b[38;5;21m__call__\u001b[39m(\u001b[38;5;28mself\u001b[39m, value, day):\n\u001b[0;32m     40\u001b[0m \u001b[38;5;250m    \u001b[39m\u001b[38;5;124;03m\"\"\"Computes irradiance in J/m2/day from sunshine duration by applying the Angstrom equation\u001b[39;00m\n\u001b[0;32m     41\u001b[0m \n\u001b[0;32m     42\u001b[0m \u001b[38;5;124;03m    :param value: sunshine duration in hours\u001b[39;00m\n\u001b[0;32m     43\u001b[0m \u001b[38;5;124;03m    :param day: the day\u001b[39;00m\n\u001b[0;32m     44\u001b[0m \u001b[38;5;124;03m    :return: irradiance in J/m2/day\u001b[39;00m\n\u001b[0;32m     45\u001b[0m \u001b[38;5;124;03m    \"\"\"\u001b[39;00m\n\u001b[1;32m---> 46\u001b[0m     \u001b[38;5;28;01massert\u001b[39;00m \u001b[38;5;241m0\u001b[39m \u001b[38;5;241m<\u001b[39m\u001b[38;5;241m=\u001b[39m value \u001b[38;5;241m<\u001b[39m\u001b[38;5;241m=\u001b[39m \u001b[38;5;241m24\u001b[39m, \\\n\u001b[0;32m     47\u001b[0m         \u001b[38;5;124m\"\u001b[39m\u001b[38;5;124mInvalid sunshine duration value (\u001b[39m\u001b[38;5;132;01m%s\u001b[39;00m\u001b[38;5;124m) encountered at day \u001b[39m\u001b[38;5;132;01m%s\u001b[39;00m\u001b[38;5;124m\"\u001b[39m \u001b[38;5;241m%\u001b[39m (value, day)\n\u001b[0;32m     48\u001b[0m     irrad \u001b[38;5;241m=\u001b[39m angstrom(day, \u001b[38;5;28mself\u001b[39m\u001b[38;5;241m.\u001b[39mlatitude, value, \u001b[38;5;28mself\u001b[39m\u001b[38;5;241m.\u001b[39mangstA, \u001b[38;5;28mself\u001b[39m\u001b[38;5;241m.\u001b[39mangstB)\n\u001b[0;32m     50\u001b[0m     \u001b[38;5;28;01mreturn\u001b[39;00m irrad\n",
      "\u001b[1;31mAssertionError\u001b[0m: Invalid sunshine duration value (100.0) encountered at day 2009-01-01"
     ]
    }
   ],
   "source": [
    "from pcse.input import CSVWeatherDataProvider\n",
    "import csv\n",
    "\n",
    "# Load the weather data provider\n",
    "# Ensure the weather file is correctly formatted for PCSE\n",
    "#weatherfile = \"chemnitz_withMeta.csv\"\n",
    "weatherfile = \"chemnitz_minimal_example.csv\"\n",
    "\n",
    "# Open the CSV file and read its contents\n",
    "with open(weatherfile, 'r') as csvfile:\n",
    "    reader = csv.reader(csvfile)\n",
    "    for row in reader:\n",
    "        print(row)  # Print each row as a list\n",
    "\n",
    "weatherdataprovider = CSVWeatherDataProvider(weatherfile)\n",
    "\n",
    "# Debugging: Inspect the first and last date\n",
    "print(f\"First date: {weatherdataprovider.first_date}\")\n",
    "print(f\"Last date: {weatherdataprovider.last_date}\")\n",
    "\n",
    "print(weatherdataprovider)"
   ]
  },
  {
   "cell_type": "code",
   "execution_count": null,
   "id": "63c2bcb7",
   "metadata": {},
   "outputs": [
    {
     "name": "stdout",
     "output_type": "stream",
     "text": [
      "        DAY  IRRAD  TMIN  TMAX  VAP  WIND  RAIN  SNOW\n",
      "0  20090101    NaN  -7.5  -4.5  3.7   3.7  0.01   NaN\n",
      "1  20090102    NaN  -5.6  -3.1  4.4   2.3  0.06   NaN\n",
      "2  20090103    NaN -10.3  -2.9  3.1   4.0  0.14   NaN\n",
      "3  20090104    NaN  -3.7  -2.4  4.9   8.3  1.04   NaN\n",
      "4  20090105    NaN -15.4  -2.2  3.9   5.9  0.08   NaN\n",
      "0   2009-01-01\n",
      "1   2009-01-02\n",
      "2   2009-01-03\n",
      "3   2009-01-04\n",
      "4   2009-01-05\n",
      "Name: DAY, dtype: datetime64[ns]\n"
     ]
    }
   ],
   "source": [
    "import pandas as pd\n",
    "\n",
    "# Read the CSV file, skipping the metadata lines\n",
    "df = pd.read_csv(\"chemnitz_withMeta.csv\", skiprows=8)  # Skip the first 9 lines containing metadata\n",
    "print(df.head())\n",
    "\n",
    "# Check if the 'DAY' column is correctly interpreted as dates\n",
    "df['DAY'] = pd.to_datetime(df['DAY'], format='%Y%m%d')\n",
    "print(df['DAY'].head())"
   ]
  },
  {
   "cell_type": "markdown",
   "id": "35ff032b",
   "metadata": {},
   "source": [
    "### Trying with excel"
   ]
  },
  {
   "cell_type": "code",
   "execution_count": 111,
   "id": "81e0d6a1",
   "metadata": {},
   "outputs": [
    {
     "name": "stdout",
     "output_type": "stream",
     "text": [
      "Excel file 'TEST_BREMEN.xlsx' created successfully with metadata and data.\n"
     ]
    }
   ],
   "source": [
    "import pandas as pd\n",
    "import numpy as np\n",
    "\n",
    "# Create a DataFrame for the metadata in a structured format\n",
    "meta_bremen = pd.DataFrame({\n",
    "    'Country': [\"Germany\"],\n",
    "    'Station': [\"Chemnitz\"],\n",
    "    'Description': [\"Observed data from Station Chemnitz\"],\n",
    "    'Source': [\"Your Data Source\"],\n",
    "    'Contact': [\"Your Contact\"],\n",
    "    'Longitude': [\"12.92\"],  # Float\n",
    "    'Latitude': [\"50.83\"],    # Float\n",
    "    'Elevation': [\"300\"],      # Float\n",
    "    'AngstromA': [\"0.25\"],     # Float\n",
    "    'AngstromB': [\"0.50\"],     # Float\n",
    "    'HasSunshine': [False]   # Boolean\n",
    "})\n",
    "\n",
    "# Map and transform the data to PCSE format\n",
    "data_bremen_pcse = pd.DataFrame({\n",
    "    'DAY': data_bremen_kl['MESS_DATUM'],\n",
    "    'IRRAD': data_bremen_solar['FG_STRAHL'] * 10000,  # Convert J/cm² to J/m²\n",
    "    'TMIN': data_bremen_kl['TNK'],  # Minimum temperature\n",
    "    'TMAX': data_bremen_kl['TXK'],  # Maximum temperature\n",
    "    'VAP': data_bremen_kl['VPM'],  # Vapor pressure\n",
    "    'WIND': data_bremen_kl['FM'],  # Wind speed\n",
    "    'RAIN': data_bremen_kl['RSK'] / 10,  # Convert mm to cm\n",
    "    'SNOW': np.nan  # Fill snow depth with NaN\n",
    "})\n",
    "\n",
    "# Path to save the Excel file\n",
    "excel_file_path = 'TEST_BREMEN.xlsx'\n",
    "\n",
    "# Create an Excel writer object\n",
    "with pd.ExcelWriter(excel_file_path, engine='openpyxl') as writer:\n",
    "    # Write the metadata to the first sheet\n",
    "    meta_bremen.to_excel(writer, sheet_name='Data', index=False, header=True, startrow=0)  # Write metadata with header\n",
    "\n",
    "    # Write the data starting from row 12 (index 11)\n",
    "    data_bremen_pcse.to_excel(writer, sheet_name='Data', index=False, header=True, startrow=11)  # Write data with header\n",
    "\n",
    "print(f\"Excel file '{excel_file_path}' created successfully with metadata and data.\")"
   ]
  },
  {
   "cell_type": "code",
   "execution_count": 59,
   "id": "9b062164",
   "metadata": {},
   "outputs": [],
   "source": [
    "from pcse.fileinput import ExcelWeatherDataProvider\n",
    "#weatherfile = \"TEST_BREMEN.xlsx\"\n",
    "#weatherdataprovider = ExcelWeatherDataProvider(weatherfile)\n",
    "#print(weatherdataprovider)"
   ]
  },
  {
   "cell_type": "markdown",
   "id": "357ca3f4",
   "metadata": {},
   "source": [
    "## Crop, Soil and Agro Data"
   ]
  },
  {
   "cell_type": "code",
   "execution_count": null,
   "id": "26c9ac79-6bcb-4da7-a1a3-d31567cf5420",
   "metadata": {},
   "outputs": [
    {
     "name": "stdout",
     "output_type": "stream",
     "text": [
      "Crop parameters loaded from: https://raw.githubusercontent.com/ajwdewit/WOFOST_crop_parameters/wofost72\n",
      "YAMLCropDataProvider - current active crop 'potato' with variety 'Potato_701'\n",
      "Available crop parameters:\n",
      " {'CO2EFFTB': [40.0, 0.0, 360.0, 1.0, 720.0, 1.11, 1000.0, 1.11, 2000.0, 1.11], 'CO2TRATB': [40.0, 0.0, 360.0, 1.0, 720.0, 0.9, 1000.0, 0.9, 2000.0, 0.9], 'CO2AMAXTB': [40.0, 0.0, 360.0, 1.0, 720.0, 1.6, 1000.0, 1.9, 2000.0, 1.9], 'TBASEM': 3.0, 'TEFFMX': 18.0, 'TSUMEM': 170, 'IDSL': 0, 'DLO': -99.0, 'DLC': -99.0, 'TSUM1': 150, 'TSUM2': 1550, 'DTSMTB': [0.0, 0.0, 2.0, 0.0, 13.0, 11.0, 30.0, 28.0], 'DVSI': 0.0, 'DVSEND': 2.0, 'VERNBASE': 14.0, 'VERNSAT': 70.0, 'VERNDVS': 0.3, 'VERNRTB': [-8.0, 0.0, -4.0, 0.0, 3.0, 1.0, 10.0, 1.0, 17.0, 0.0, 20.0, 0.0], 'TDWI': 75.0, 'RGRLAI': 0.012, 'SLATB': [0.0, 0.003, 1.1, 0.003, 2.0, 0.0015], 'SPA': 0.0, 'SSATB': [0.0, 0.0, 2.0, 0.0], 'SPAN': 37.0, 'TBASE': 2.0, 'KDIFTB': [0.0, 1.0, 2.0, 1.0], 'EFFTB': [0.0, 0.45, 40.0, 0.45], 'AMAXTB': [0.0, 30.0, 1.57, 30.0, 2.0, 0.0], 'REFCO2L': 360, 'TMPFTB': [0.0, 0.01, 3.0, 0.01, 10.0, 0.75, 15.0, 1.0, 20.0, 1.0, 26.0, 0.75, 33.0, 0.01], 'TMNFTB': [0.0, 0.0, 3.0, 1.0], 'CVL': 0.72, 'CVO': 0.85, 'CVR': 0.72, 'CVS': 0.69, 'Q10': 2.0, 'RML': 0.03, 'RMO': 0.0045, 'RMR': 0.01, 'RMS': 0.015, 'RFSETB': [0.0, 1.0, 2.0, 1.0], 'FRTB': [0.0, 0.2, 1.0, 0.2, 1.36, 0.0, 2.0, 0.0], 'FLTB': [0.0, 0.8, 1.0, 0.8, 1.27, 0.0, 1.36, 0.0, 2.0, 0.0], 'FSTB': [0.0, 0.2, 1.0, 0.2, 1.27, 0.25, 1.36, 0.0, 2.0, 0.0], 'FOTB': [0.0, 0.0, 1.0, 0.0, 1.27, 0.75, 1.36, 1.0, 2.0, 1.0], 'PERDL': 0.03, 'RDRRTB': [0.0, 0.0, 1.5, 0.0, 1.51, 0.02, 2.0, 0.02], 'RDRSTB': [0.0, 0.0, 1.5, 0.0, 1.51, 0.02, 2.0, 0.02], 'CFET': 1.0, 'DEPNR': 3.0, 'IAIRDU': 0, 'IOX': 0, 'RDI': 10.0, 'RRI': 1.2, 'RDMCR': 50.0}\n",
      "Using this class from pcse.util is deprecated, use pcse.input.DummySoilDataProvider\n"
     ]
    },
    {
     "ename": "PCSEError",
     "evalue": "Cannot find agromanagement file: c:\\Users\\krist\\FPSS\\Agrivoltaics\\data\\agro\\potato_agro_test.yaml",
     "output_type": "error",
     "traceback": [
      "\u001b[1;31m---------------------------------------------------------------------------\u001b[0m",
      "\u001b[1;31mPCSEError\u001b[0m                                 Traceback (most recent call last)",
      "Cell \u001b[1;32mIn[61], line 29\u001b[0m\n\u001b[0;32m     27\u001b[0m \u001b[38;5;124;03m\"\"\"agro file\"\"\"\u001b[39;00m\n\u001b[0;32m     28\u001b[0m agromanagement_file \u001b[38;5;241m=\u001b[39m(\u001b[38;5;124m\"\u001b[39m\u001b[38;5;124mdata/agro/potato_agro_test.yaml\u001b[39m\u001b[38;5;124m\"\u001b[39m) \u001b[38;5;66;03m#insert path\u001b[39;00m\n\u001b[1;32m---> 29\u001b[0m agromanagement \u001b[38;5;241m=\u001b[39m \u001b[43mYAMLAgroManagementReader\u001b[49m\u001b[43m(\u001b[49m\u001b[43magromanagement_file\u001b[49m\u001b[43m)\u001b[49m\n",
      "File \u001b[1;32mc:\\Users\\krist\\anaconda3\\envs\\py3_pcse\\lib\\site-packages\\pcse\\input\\yaml_agro_loader.py:17\u001b[0m, in \u001b[0;36mYAMLAgroManagementReader.__init__\u001b[1;34m(self, fname)\u001b[0m\n\u001b[0;32m     15\u001b[0m \u001b[38;5;28;01mif\u001b[39;00m \u001b[38;5;129;01mnot\u001b[39;00m os\u001b[38;5;241m.\u001b[39mpath\u001b[38;5;241m.\u001b[39mexists(fname_fp):\n\u001b[0;32m     16\u001b[0m     msg \u001b[38;5;241m=\u001b[39m \u001b[38;5;124m\"\u001b[39m\u001b[38;5;124mCannot find agromanagement file: \u001b[39m\u001b[38;5;132;01m%s\u001b[39;00m\u001b[38;5;124m\"\u001b[39m \u001b[38;5;241m%\u001b[39m fname_fp\n\u001b[1;32m---> 17\u001b[0m     \u001b[38;5;28;01mraise\u001b[39;00m exc\u001b[38;5;241m.\u001b[39mPCSEError(msg)\n\u001b[0;32m     19\u001b[0m \u001b[38;5;28;01mwith\u001b[39;00m \u001b[38;5;28mopen\u001b[39m(fname) \u001b[38;5;28;01mas\u001b[39;00m fp:\n\u001b[0;32m     20\u001b[0m     \u001b[38;5;28;01mtry\u001b[39;00m:\n",
      "\u001b[1;31mPCSEError\u001b[0m: Cannot find agromanagement file: c:\\Users\\krist\\FPSS\\Agrivoltaics\\data\\agro\\potato_agro_test.yaml"
     ]
    }
   ],
   "source": [
    "from pcse.input import YAMLCropDataProvider\n",
    "from pcse.models import Wofost72_PP\n",
    "from pcse.util import DummySoilDataProvider\n",
    "from pcse.input import WOFOST72SiteDataProvider\n",
    "from pcse.base import ParameterProvider\n",
    "from pcse.input import YAMLAgroManagementReader\n",
    "\n",
    "\"\"\"load crop file https://github.com/ajwdewit/WOFOST_crop_parameters\"\"\"\n",
    "cropd = YAMLCropDataProvider(Wofost72_PP) #https://github.com/ajwdewit/WOFOST_crop_parameters\n",
    "#cropd.print_crops_varieties() #every kind of plant in this library\n",
    "\n",
    "#activate a specific crop (crop and variety), loaded directly from the PCSE GitHub\n",
    "cropd.set_active_crop(\"potato\", \"Potato_701\") #Potato\n",
    "#cropd.set_active_crop(\"millet\", \"Millet_VanHeemst_1988\") #Millet (Hirse)\n",
    "#cropd.set_active_crop(\"wheat\", \"Winter_wheat_101\") #Wheat\n",
    "print(cropd)\n",
    "\n",
    "\"\"\"load dummy soil file https://pcse.readthedocs.io/en/stable/code.html#pcse.util.DummySoilDataProvider\"\"\"\n",
    "soild = DummySoilDataProvider()\n",
    "\n",
    "\"\"\"load some standard site; https://pcse.readthedocs.io/en/stable/code.html#wofost72sitedataprovider\"\"\"\n",
    "sited = WOFOST72SiteDataProvider(WAV=10) #WAV = initial soil moisture\n",
    "\n",
    "\"\"\"put everything together with ParameterProvider\"\"\"\n",
    "parameters = ParameterProvider(cropdata=cropd, soildata=soild, sitedata=sited)\n",
    "\n",
    "\"\"\"agro file\"\"\"\n",
    "agromanagement_file =(\"agro/potato_agro_test.yaml\") #insert path\n",
    "agromanagement = YAMLAgroManagementReader(agromanagement_file)\n",
    "#important: the time interval in the agro file must be up-to-date"
   ]
  },
  {
   "cell_type": "markdown",
   "id": "a6d2ba23",
   "metadata": {},
   "source": [
    "running the model with the given files"
   ]
  },
  {
   "cell_type": "code",
   "execution_count": null,
   "id": "8e4870bb",
   "metadata": {},
   "outputs": [
    {
     "ename": "NameError",
     "evalue": "name 'parameters' is not defined",
     "output_type": "error",
     "traceback": [
      "\u001b[1;31m---------------------------------------------------------------------------\u001b[0m",
      "\u001b[1;31mNameError\u001b[0m                                 Traceback (most recent call last)",
      "Cell \u001b[1;32mIn[20], line 3\u001b[0m\n\u001b[0;32m      1\u001b[0m \u001b[38;5;66;03m#running the model\u001b[39;00m\n\u001b[0;32m      2\u001b[0m \u001b[38;5;28;01mfrom\u001b[39;00m\u001b[38;5;250m \u001b[39m\u001b[38;5;21;01mpcse\u001b[39;00m\u001b[38;5;21;01m.\u001b[39;00m\u001b[38;5;21;01mmodels\u001b[39;00m\u001b[38;5;250m \u001b[39m\u001b[38;5;28;01mimport\u001b[39;00m Wofost72_WLP_CWB, Wofost72_PP\n\u001b[1;32m----> 3\u001b[0m wofsim \u001b[38;5;241m=\u001b[39m Wofost72_WLP_CWB(\u001b[43mparameters\u001b[49m, weatherdataprovider, agromanagement)\n\u001b[0;32m      5\u001b[0m wofsim\u001b[38;5;241m.\u001b[39mrun(days\u001b[38;5;241m=\u001b[39m\u001b[38;5;241m10\u001b[39m)\n\u001b[0;32m      6\u001b[0m df_results \u001b[38;5;241m=\u001b[39m pd\u001b[38;5;241m.\u001b[39mDataFrame(wofsim\u001b[38;5;241m.\u001b[39mget_output())\n",
      "\u001b[1;31mNameError\u001b[0m: name 'parameters' is not defined"
     ]
    }
   ],
   "source": [
    "#running the model\n",
    "from pcse.models import Wofost72_WLP_CWB\n",
    "wofsim = Wofost72_WLP_CWB(parameters, weatherdataprovider, agromanagement)\n",
    "\n",
    "wofsim.run(days=10)\n",
    "df_results = pd.DataFrame(wofsim.get_output())\n",
    "df_results = df_results.set_index(\"day\")\n",
    "df_results.tail()"
   ]
  },
  {
   "cell_type": "markdown",
   "id": "03d90bb5",
   "metadata": {},
   "source": [
    "Visualization"
   ]
  },
  {
   "cell_type": "code",
   "execution_count": null,
   "id": "70805301",
   "metadata": {},
   "outputs": [],
   "source": [
    "fig, axes = plt.subplots(nrows=4, ncols=1, figsize=(12,12), sharex=True)\n",
    "for var, ax in zip([\"DVS\", \"TAGP\", \"LAI\", \"SM\"], axes.flatten()):\n",
    "    ax.plot(df_results.index, df_results[var], 'b-')\n",
    "    ax.set_title(var)\n",
    "plt.show()\n",
    "fig.autofmt_xdate()"
   ]
  }
 ],
 "metadata": {
  "kernelspec": {
   "display_name": "py3_pcse",
   "language": "python",
   "name": "python3"
  },
  "language_info": {
   "codemirror_mode": {
    "name": "ipython",
    "version": 3
   },
   "file_extension": ".py",
   "mimetype": "text/x-python",
   "name": "python",
   "nbconvert_exporter": "python",
   "pygments_lexer": "ipython3",
   "version": "3.10.16"
  }
 },
 "nbformat": 4,
 "nbformat_minor": 5
}
