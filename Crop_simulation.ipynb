{
 "cells": [
  {
   "cell_type": "markdown",
   "id": "286f3808-78ad-42b1-bfac-0fceea2cb07d",
   "metadata": {},
   "source": [
    "# Crop simulation"
   ]
  },
  {
   "cell_type": "markdown",
   "id": "4287909f-b4ed-41b5-ab1c-634d94c852b0",
   "metadata": {},
   "source": [
    "Doing imports "
   ]
  },
  {
   "cell_type": "code",
   "execution_count": 22,
   "id": "26fbf1c6-6c3d-4c38-96a9-a9851d02fd1d",
   "metadata": {},
   "outputs": [
    {
     "name": "stdout",
     "output_type": "stream",
     "text": [
      "This notebook was built with:\n",
      "python version: 3.10.16 | packaged by Anaconda, Inc. | (main, Dec 11 2024, 16:19:12) [MSC v.1929 64 bit (AMD64)]\n",
      "PCSE version: 6.0.9\n"
     ]
    }
   ],
   "source": [
    "%matplotlib inline\n",
    "#%matplotlib notebook\n",
    "import sys\n",
    "import pcse\n",
    "import pandas as pd\n",
    "import matplotlib\n",
    "matplotlib.style.use(\"ggplot\")\n",
    "import matplotlib.pyplot as plt\n",
    "print(\"This notebook was built with:\")\n",
    "print(f\"python version: {sys.version}\")\n",
    "print(f\"PCSE version: {pcse.__version__}\")"
   ]
  },
  {
   "cell_type": "markdown",
   "id": "a34f23d0",
   "metadata": {},
   "source": [
    "## Weather & Solar data "
   ]
  },
  {
   "cell_type": "markdown",
   "id": "a47fb8ab",
   "metadata": {},
   "source": [
    "### 1. Transform the data into the right units\n"
   ]
  },
  {
   "cell_type": "markdown",
   "id": "9c75d86c",
   "metadata": {},
   "source": [
    "| Identifier | Parameter   | Description                              | From Unit  | To Unit           | Dataset |\n",
    "|------------|-------------|------------------------------------------|------------|-------------------|---------|\n",
    "| TXK        | TMAX        | Daily maximum temperature                | °C         | °C                | KL      |\n",
    "| TNK        | TMIN        | Daily minimum temperature                | °C         | °C                | KL      |\n",
    "| VPM        | VAP         | Mean daily vapour pressure               | hPa        | hPa               | KL      |\n",
    "| FM         | WIND        | Mean daily wind speed at 2 m above ground level | m/s        | m/s       | KL      |\n",
    "| RSK        | RAIN        | Precipitation                            | mm         | cm   | KL      |\n",
    "| FG_STRAHL  | IRRAD       | Daily global radiation                   | J/cm^2     | J/m^{-2} | Solar   |\n",
    "| SHK_TAG    | SNOWDEPTH   | Depth of snow cover (optional)           | cm         | cm                | KL      |"
   ]
  },
  {
   "cell_type": "markdown",
   "id": "39a196f1",
   "metadata": {},
   "source": [
    "##### Climate data"
   ]
  },
  {
   "cell_type": "code",
   "execution_count": 41,
   "id": "97890d92",
   "metadata": {},
   "outputs": [],
   "source": [
    "# Read the text file into a DataFrame\n",
    "data_bremen_kl = pd.read_csv('data_kl/bremen_daily_kl/tageswerte_KL_00691_18900101_20231231_hist/produkt_klima_tag_18900101_20231231_00691.txt', delimiter=';', skipfooter=1, engine='python')\n",
    "\n",
    "data_chemnitz_kl = pd.read_csv('data_kl/chemnitz_daily_kl/tageswerte_KL_00853_18820101_20231231_hist/produkt_klima_tag_18820101_20231231_00853.txt', delimiter=';', skipfooter=1, engine='python')\n",
    "\n",
    "# Convert units -> mm to cm, ensuring column names are stripped of extra spaces\n",
    "data_bremen_kl.columns = data_bremen_kl.columns.str.strip()\n",
    "data_chemnitz_kl.columns = data_chemnitz_kl.columns.str.strip()\n",
    "\n",
    "# Replace -999 with NaN\n",
    "data_bremen_kl.replace(-999, np.nan, inplace=True)\n",
    "data_chemnitz_kl.replace(-999, np.nan, inplace=True)\n"
   ]
  },
  {
   "cell_type": "markdown",
   "id": "e4dd5427",
   "metadata": {},
   "source": [
    "##### Solar data"
   ]
  },
  {
   "cell_type": "code",
   "execution_count": null,
   "id": "2067ac73",
   "metadata": {},
   "outputs": [],
   "source": [
    "# Read the text file into a DataFrame\n",
    "data_bremen_solar = pd.read_csv('data_solar/bremen/tageswerte_ST_00691_row/produkt_st_tag_20090101_20250331_00691.txt', delimiter=';', skipfooter=1, engine='python')\n",
    "\n",
    "data_chemnitz_solar = pd.read_csv('data_solar/chemnitz/tageswerte_ST_00853_row/produkt_st_tag_19810101_20250331_00853.txt', delimiter=';', skipfooter=1, engine='python')\n",
    "\n",
    "# drop the 'eor' column from the DataFrame\n",
    "#data_bremen_solar.drop(columns=['eor'], inplace=True)\n",
    "\n",
    "# Replace -999 with NaN\n",
    "data_bremen_solar.replace(-999, np.nan, inplace=True)\n",
    "data_chemnitz_solar.replace(-999, np.nan, inplace=True)"
   ]
  },
  {
   "cell_type": "markdown",
   "id": "4799f84c",
   "metadata": {},
   "source": [
    "##### Find the rows without NaNs\n"
   ]
  },
  {
   "cell_type": "code",
   "execution_count": 31,
   "id": "c31546e9",
   "metadata": {},
   "outputs": [
    {
     "name": "stdout",
     "output_type": "stream",
     "text": [
      "Bremen Solar Data without NaNs:\n",
      "Empty DataFrame\n",
      "Columns: [STATIONS_ID, MESS_DATUM, QN_592, ATMO_STRAHL, FD_STRAHL, FG_STRAHL, SD_STRAHL]\n",
      "Index: []\n",
      "Chemnitz Solar Data without NaNs:\n",
      "Empty DataFrame\n",
      "Columns: [STATIONS_ID, MESS_DATUM, QN_592, ATMO_STRAHL, FD_STRAHL, FG_STRAHL, SD_STRAHL, eor]\n",
      "Index: []\n"
     ]
    }
   ],
   "source": [
    "# Create a boolean mask for rows without NaN values\n",
    "mask_bremen = data_bremen_solar.notna().all(axis=1)\n",
    "mask_chemnitz = data_chemnitz_solar.notna().all(axis=1)\n",
    "\n",
    "# Filter and print the rows without NaN values\n",
    "data_bremen_solar_cleaned = data_bremen_solar[mask_bremen]\n",
    "data_chemnitz_solar_cleaned = data_chemnitz_solar[mask_chemnitz]\n",
    "\n",
    "print(\"Bremen Solar Data without NaNs:\")\n",
    "print(data_bremen_solar_cleaned)\n",
    "\n",
    "print(\"Chemnitz Solar Data without NaNs:\")\n",
    "print(data_chemnitz_solar_cleaned)"
   ]
  },
  {
   "cell_type": "markdown",
   "id": "deea887d",
   "metadata": {},
   "source": [
    "### 2. Transform to PCSE data format"
   ]
  },
  {
   "cell_type": "code",
   "execution_count": 38,
   "id": "af8a136d",
   "metadata": {},
   "outputs": [],
   "source": [
    "# Map and transform the data to PCSE format\n",
    "data_bremen_pcse = pd.DataFrame({\n",
    "    #'DAY': pd.to_datetime(data_bremen_kl['MESS_DATUM'], format='%Y%m%d'),\n",
    "    'DAY': data_bremen_kl['MESS_DATUM'],\n",
    "    'TMIN': data_bremen_kl['TNK'],  # Example: map to minimum temperature\n",
    "    'TMAX': data_bremen_kl['TXK'],  # Example: map to maximum temperature\n",
    "    'VAP': data_bremen_kl['VPM'],  # Example: map to vapor pressure\n",
    "    'RAIN': data_bremen_kl['RSK'] / 10,  # Convert mm to cm if needed\n",
    "    'IRRAD': data_bremen_solar['FG_STRAHL'] * 10000,  # Convert J/cm² to J/m²\n",
    "    'WIND': data_bremen_kl['FM'],  # Assuming this is the wind speed\n",
    "})\n",
    "\n",
    "#print(data_bremen_pcse)"
   ]
  },
  {
   "cell_type": "code",
   "execution_count": null,
   "id": "54419a06",
   "metadata": {},
   "outputs": [],
   "source": [
    "# Map and transform the data to PCSE format\n",
    "data_chemnitz_pcse = pd.DataFrame({\n",
    "    #'DAY': pd.to_datetime(data_chemnitz_kl['MESS_DATUM'], format='%Y%m%d'),\n",
    "    'DAY': data_chemnitz_kl['MESS_DATUM'],\n",
    "    'TMIN': data_chemnitz_kl['TNK'],  # Example: map to minimum temperature\n",
    "    'TMAX': data_chemnitz_kl['TXK'],  # Example: map to maximum temperature\n",
    "    'VAP': data_chemnitz_kl['VPM'],  # Example: map to vapor pressure\n",
    "    'RAIN': data_chemnitz_kl['RSK'] / 10,  # Convert mm to cm if needed\n",
    "    'IRRAD': data_chemnitz_solar['FG_STRAHL'] * 10000,  # Convert J/cm² to J/m²\n",
    "    'WIND': data_chemnitz_kl['FM'],  # Assuming this is the wind speed\n",
    "})\n",
    "\n",
    "#print(data_chemnitz_pcse)\n"
   ]
  },
  {
   "cell_type": "markdown",
   "id": "89b7b71c",
   "metadata": {},
   "source": [
    "##### Tests to find error "
   ]
  },
  {
   "cell_type": "code",
   "execution_count": null,
   "id": "fe7e9de5",
   "metadata": {},
   "outputs": [],
   "source": [
    "# Remove rows with any NaN values\n",
    "# data_cleaned = data_chemnitz_pcse.dropna()\n",
    "# print(data_cleaned)\n",
    "\n",
    "\n",
    "# print the rows with NaN values & sum rows with NaN values\n",
    "# print(data_chemnitz_pcse.isna().sum())\n",
    "# print(data_chemnitz_pcse.isna())\n",
    "\n",
    "# Filter the data for a specific date range (e.g., from 2009-01-01 to 2023-12-31)\n",
    "# data_chemnitz_filtered = data_chemnitz_pcse[data_chemnitz_pcse['DAY'] >= 20090101]\n",
    "# data_chemnitz_filtered.to_csv('data_chemnitz_filtered.csv', index=False, na_rep='NaN')\n",
    "\n",
    "\n",
    "# Write to CSV file without site characteristics\n",
    "# data_chemnitz_pcse.to_csv('data_chemnitz_pcse.csv', index=False, na_rep='NaN')"
   ]
  },
  {
   "cell_type": "markdown",
   "id": "6c53414b",
   "metadata": {},
   "source": [
    "### 3. Insert site characteristics into the CSV"
   ]
  },
  {
   "cell_type": "code",
   "execution_count": null,
   "id": "8673f6f8",
   "metadata": {},
   "outputs": [
    {
     "name": "stdout",
     "output_type": "stream",
     "text": [
      "CSV file with site characteristics created.\n"
     ]
    }
   ],
   "source": [
    "# Site characteristics as a string\n",
    "site_characteristics = \"\"\"## Site Characteristics\n",
    "Country     = 'Germany'\n",
    "Station     = 'Chemnitz'\n",
    "Description = 'Observed data from Station Chemnitz'\n",
    "Source      = 'Your Data Source'\n",
    "Contact     = 'Your Contact'\n",
    "Longitude = 12.92; Latitude = 50.83; Elevation = 300; AngstromA = 0.25; AngstromB = 0.50; HasSunshine = False\n",
    "## Daily weather observations (missing values are NaN)\n",
    "\"\"\"\n",
    "\n",
    "# Convert DataFrame to CSV string\n",
    "csv_data = data_chemnitz_pcse.to_csv(index=False, na_rep='NaN')\n",
    "\n",
    "# Combine site characteristics and CSV data\n",
    "full_csv_content = site_characteristics + csv_data\n",
    "\n",
    "# Write to CSV file\n",
    "with open('chemnitz_withMeta.csv', 'w') as f:\n",
    "    f1.write(full_csv_content)\n",
    "    #f.write(csv_data)\n",
    "\n",
    "print(\"CSV file with site characteristics created.\")"
   ]
  },
  {
   "cell_type": "markdown",
   "id": "dde61951",
   "metadata": {},
   "source": [
    "### 4. Create and print the WeatherDataProvider"
   ]
  },
  {
   "cell_type": "code",
   "execution_count": 49,
   "id": "66c0f103",
   "metadata": {},
   "outputs": [
    {
     "name": "stdout",
     "output_type": "stream",
     "text": [
      "First date: None\n",
      "Last date: None\n"
     ]
    },
    {
     "ename": "TypeError",
     "evalue": "unsupported operand type(s) for -: 'NoneType' and 'NoneType'",
     "output_type": "error",
     "traceback": [
      "\u001b[1;31m---------------------------------------------------------------------------\u001b[0m",
      "\u001b[1;31mTypeError\u001b[0m                                 Traceback (most recent call last)",
      "Cell \u001b[1;32mIn[49], line 11\u001b[0m\n\u001b[0;32m      8\u001b[0m \u001b[38;5;28mprint\u001b[39m(\u001b[38;5;124mf\u001b[39m\u001b[38;5;124m\"\u001b[39m\u001b[38;5;124mFirst date: \u001b[39m\u001b[38;5;132;01m{\u001b[39;00mweatherdataprovider\u001b[38;5;241m.\u001b[39mfirst_date\u001b[38;5;132;01m}\u001b[39;00m\u001b[38;5;124m\"\u001b[39m)\n\u001b[0;32m      9\u001b[0m \u001b[38;5;28mprint\u001b[39m(\u001b[38;5;124mf\u001b[39m\u001b[38;5;124m\"\u001b[39m\u001b[38;5;124mLast date: \u001b[39m\u001b[38;5;132;01m{\u001b[39;00mweatherdataprovider\u001b[38;5;241m.\u001b[39mlast_date\u001b[38;5;132;01m}\u001b[39;00m\u001b[38;5;124m\"\u001b[39m)\n\u001b[1;32m---> 11\u001b[0m \u001b[38;5;28;43mprint\u001b[39;49m\u001b[43m(\u001b[49m\u001b[43mweatherdataprovider\u001b[49m\u001b[43m)\u001b[49m\n",
      "File \u001b[1;32mc:\\Users\\krist\\anaconda3\\envs\\py3_pcse\\lib\\site-packages\\pcse\\base\\weather.py:395\u001b[0m, in \u001b[0;36mWeatherDataProvider.__str__\u001b[1;34m(self)\u001b[0m\n\u001b[0;32m    393\u001b[0m msg \u001b[38;5;241m+\u001b[39m\u001b[38;5;241m=\u001b[39m \u001b[38;5;124m\"\u001b[39m\u001b[38;5;124mLongitude: \u001b[39m\u001b[38;5;132;01m%6.3f\u001b[39;00m\u001b[38;5;130;01m\\n\u001b[39;00m\u001b[38;5;124m\"\u001b[39m \u001b[38;5;241m%\u001b[39m \u001b[38;5;28mself\u001b[39m\u001b[38;5;241m.\u001b[39mlongitude\n\u001b[0;32m    394\u001b[0m msg \u001b[38;5;241m+\u001b[39m\u001b[38;5;241m=\u001b[39m \u001b[38;5;124m\"\u001b[39m\u001b[38;5;124mData available for \u001b[39m\u001b[38;5;132;01m%s\u001b[39;00m\u001b[38;5;124m - \u001b[39m\u001b[38;5;132;01m%s\u001b[39;00m\u001b[38;5;130;01m\\n\u001b[39;00m\u001b[38;5;124m\"\u001b[39m \u001b[38;5;241m%\u001b[39m (\u001b[38;5;28mself\u001b[39m\u001b[38;5;241m.\u001b[39mfirst_date, \u001b[38;5;28mself\u001b[39m\u001b[38;5;241m.\u001b[39mlast_date)\n\u001b[1;32m--> 395\u001b[0m msg \u001b[38;5;241m+\u001b[39m\u001b[38;5;241m=\u001b[39m \u001b[38;5;124m\"\u001b[39m\u001b[38;5;124mNumber of missing days: \u001b[39m\u001b[38;5;132;01m%i\u001b[39;00m\u001b[38;5;130;01m\\n\u001b[39;00m\u001b[38;5;124m\"\u001b[39m \u001b[38;5;241m%\u001b[39m \u001b[38;5;28;43mself\u001b[39;49m\u001b[38;5;241;43m.\u001b[39;49m\u001b[43mmissing\u001b[49m\n\u001b[0;32m    396\u001b[0m \u001b[38;5;28;01mreturn\u001b[39;00m msg\n",
      "File \u001b[1;32mc:\\Users\\krist\\anaconda3\\envs\\py3_pcse\\lib\\site-packages\\pcse\\base\\weather.py:299\u001b[0m, in \u001b[0;36mWeatherDataProvider.missing\u001b[1;34m(self)\u001b[0m\n\u001b[0;32m    297\u001b[0m \u001b[38;5;129m@property\u001b[39m\n\u001b[0;32m    298\u001b[0m \u001b[38;5;28;01mdef\u001b[39;00m\u001b[38;5;250m \u001b[39m\u001b[38;5;21mmissing\u001b[39m(\u001b[38;5;28mself\u001b[39m):\n\u001b[1;32m--> 299\u001b[0m     missing \u001b[38;5;241m=\u001b[39m (\u001b[38;5;28;43mself\u001b[39;49m\u001b[38;5;241;43m.\u001b[39;49m\u001b[43mlast_date\u001b[49m\u001b[43m \u001b[49m\u001b[38;5;241;43m-\u001b[39;49m\u001b[43m \u001b[49m\u001b[38;5;28;43mself\u001b[39;49m\u001b[38;5;241;43m.\u001b[39;49m\u001b[43mfirst_date\u001b[49m)\u001b[38;5;241m.\u001b[39mdays \u001b[38;5;241m-\u001b[39m \u001b[38;5;28mlen\u001b[39m(\u001b[38;5;28mself\u001b[39m\u001b[38;5;241m.\u001b[39mstore) \u001b[38;5;241m+\u001b[39m \u001b[38;5;241m1\u001b[39m\n\u001b[0;32m    300\u001b[0m     \u001b[38;5;28;01mreturn\u001b[39;00m missing\n",
      "\u001b[1;31mTypeError\u001b[0m: unsupported operand type(s) for -: 'NoneType' and 'NoneType'"
     ]
    }
   ],
   "source": [
    "from pcse.input import CSVWeatherDataProvider\n",
    "\n",
    "# Load the weather data provider\n",
    "weatherfile = \"chemnitz_withMeta.csv\"\n",
    "weatherdataprovider = CSVWeatherDataProvider(weatherfile, delimiter=',', dateformat='%Y%m%d', ETmodel='PM', force_reload=False)\n",
    "\n",
    "# Debugging: Inspect the first and last date\n",
    "print(f\"First date: {weatherdataprovider.first_date}\")\n",
    "print(f\"Last date: {weatherdataprovider.last_date}\")\n",
    "\n",
    "print(weatherdataprovider)"
   ]
  },
  {
   "cell_type": "markdown",
   "id": "357ca3f4",
   "metadata": {},
   "source": [
    "## Crop, Soil and Agro Data"
   ]
  },
  {
   "cell_type": "code",
   "execution_count": null,
   "id": "26c9ac79-6bcb-4da7-a1a3-d31567cf5420",
   "metadata": {},
   "outputs": [
    {
     "ename": "FileNotFoundError",
     "evalue": "[Errno 2] No such file or directory: 'data/crop/potato.yaml'",
     "output_type": "error",
     "traceback": [
      "\u001b[1;31m---------------------------------------------------------------------------\u001b[0m",
      "\u001b[1;31mFileNotFoundError\u001b[0m                         Traceback (most recent call last)",
      "Cell \u001b[1;32mIn[19], line 7\u001b[0m\n\u001b[0;32m      4\u001b[0m \u001b[38;5;28;01mfrom\u001b[39;00m\u001b[38;5;250m \u001b[39m\u001b[38;5;21;01mpcse\u001b[39;00m\u001b[38;5;21;01m.\u001b[39;00m\u001b[38;5;21;01mbase\u001b[39;00m\u001b[38;5;250m \u001b[39m\u001b[38;5;28;01mimport\u001b[39;00m ParameterProvider\n\u001b[0;32m      6\u001b[0m \u001b[38;5;66;03m#load crop file\u001b[39;00m\n\u001b[1;32m----> 7\u001b[0m \u001b[38;5;28;01mwith\u001b[39;00m \u001b[38;5;28;43mopen\u001b[39;49m\u001b[43m(\u001b[49m\u001b[38;5;124;43m'\u001b[39;49m\u001b[38;5;124;43mdata/crop/potato.yaml\u001b[39;49m\u001b[38;5;124;43m'\u001b[39;49m\u001b[43m,\u001b[49m\u001b[43m \u001b[49m\u001b[38;5;124;43m'\u001b[39;49m\u001b[38;5;124;43mr\u001b[39;49m\u001b[38;5;124;43m'\u001b[39;49m\u001b[43m)\u001b[49m \u001b[38;5;28;01mas\u001b[39;00m file: \u001b[38;5;66;03m#alternative: from pcse.input import YAMLCropDataProvider\u001b[39;00m\n\u001b[0;32m      8\u001b[0m     yaml_file \u001b[38;5;241m=\u001b[39m yaml\u001b[38;5;241m.\u001b[39msafe_load(file)\n\u001b[0;32m     10\u001b[0m \u001b[38;5;66;03m#flatten crop file: remove the nested structure\u001b[39;00m\n",
      "File \u001b[1;32mc:\\Users\\krist\\anaconda3\\envs\\py3_pcse\\lib\\site-packages\\IPython\\core\\interactiveshell.py:324\u001b[0m, in \u001b[0;36m_modified_open\u001b[1;34m(file, *args, **kwargs)\u001b[0m\n\u001b[0;32m    317\u001b[0m \u001b[38;5;28;01mif\u001b[39;00m file \u001b[38;5;129;01min\u001b[39;00m {\u001b[38;5;241m0\u001b[39m, \u001b[38;5;241m1\u001b[39m, \u001b[38;5;241m2\u001b[39m}:\n\u001b[0;32m    318\u001b[0m     \u001b[38;5;28;01mraise\u001b[39;00m \u001b[38;5;167;01mValueError\u001b[39;00m(\n\u001b[0;32m    319\u001b[0m         \u001b[38;5;124mf\u001b[39m\u001b[38;5;124m\"\u001b[39m\u001b[38;5;124mIPython won\u001b[39m\u001b[38;5;124m'\u001b[39m\u001b[38;5;124mt let you open fd=\u001b[39m\u001b[38;5;132;01m{\u001b[39;00mfile\u001b[38;5;132;01m}\u001b[39;00m\u001b[38;5;124m by default \u001b[39m\u001b[38;5;124m\"\u001b[39m\n\u001b[0;32m    320\u001b[0m         \u001b[38;5;124m\"\u001b[39m\u001b[38;5;124mas it is likely to crash IPython. If you know what you are doing, \u001b[39m\u001b[38;5;124m\"\u001b[39m\n\u001b[0;32m    321\u001b[0m         \u001b[38;5;124m\"\u001b[39m\u001b[38;5;124myou can use builtins\u001b[39m\u001b[38;5;124m'\u001b[39m\u001b[38;5;124m open.\u001b[39m\u001b[38;5;124m\"\u001b[39m\n\u001b[0;32m    322\u001b[0m     )\n\u001b[1;32m--> 324\u001b[0m \u001b[38;5;28;01mreturn\u001b[39;00m io_open(file, \u001b[38;5;241m*\u001b[39margs, \u001b[38;5;241m*\u001b[39m\u001b[38;5;241m*\u001b[39mkwargs)\n",
      "\u001b[1;31mFileNotFoundError\u001b[0m: [Errno 2] No such file or directory: 'data/crop/potato.yaml'"
     ]
    }
   ],
   "source": [
    "from pcse.input import YAMLCropDataProvider\n",
    "from pcse.models import Wofost72_PP\n",
    "from pcse.util import DummySoilDataProvider\n",
    "from pcse.input import WOFOST72SiteDataProvider\n",
    "from pcse.base import ParameterProvider\n",
    "from pcse.input import YAMLAgroManagementReader\n",
    "\n",
    "\"\"\"load crop file https://github.com/ajwdewit/WOFOST_crop_parameters\"\"\"\n",
    "cropd = YAMLCropDataProvider(Wofost72_PP) #https://github.com/ajwdewit/WOFOST_crop_parameters\n",
    "#cropd.print_crops_varieties() #every kind of plant in this library\n",
    "\n",
    "#activate a specific crop (crop and variety), loaded directly from the PCSE GitHub\n",
    "cropd.set_active_crop(\"potato\", \"Potato_701\") #Potato\n",
    "#cropd.set_active_crop(\"millet\", \"Millet_VanHeemst_1988\") #Millet (Hirse)\n",
    "#cropd.set_active_crop(\"wheat\", \"Winter_wheat_101\") #Wheat\n",
    "print(cropd)\n",
    "\n",
    "\"\"\"load dummy soil file https://pcse.readthedocs.io/en/stable/code.html#pcse.util.DummySoilDataProvider\"\"\"\n",
    "soild = DummySoilDataProvider()\n",
    "\n",
    "\"\"\"load some standard site; https://pcse.readthedocs.io/en/stable/code.html#wofost72sitedataprovider\"\"\"\n",
    "sited = WOFOST72SiteDataProvider(WAV=10) #WAV = initial soil moisture\n",
    "\n",
    "\"\"\"put everything together with ParameterProvider\"\"\"\n",
    "parameters = ParameterProvider(cropdata=cropd, soildata=soild, sitedata=sited)\n",
    "\n",
    "\"\"\"agro file\"\"\"\n",
    "agromanagement_file =(\"data/agro/potato_agro_test.yaml\") #insert path\n",
    "agromanagement = YAMLAgroManagementReader(agromanagement_file)"
   ]
  },
  {
   "cell_type": "markdown",
   "id": "a6d2ba23",
   "metadata": {},
   "source": [
    "running the model with the given files"
   ]
  },
  {
   "cell_type": "code",
   "execution_count": null,
   "id": "8e4870bb",
   "metadata": {},
   "outputs": [
    {
     "ename": "NameError",
     "evalue": "name 'parameters' is not defined",
     "output_type": "error",
     "traceback": [
      "\u001b[1;31m---------------------------------------------------------------------------\u001b[0m",
      "\u001b[1;31mNameError\u001b[0m                                 Traceback (most recent call last)",
      "Cell \u001b[1;32mIn[20], line 3\u001b[0m\n\u001b[0;32m      1\u001b[0m \u001b[38;5;66;03m#running the model\u001b[39;00m\n\u001b[0;32m      2\u001b[0m \u001b[38;5;28;01mfrom\u001b[39;00m\u001b[38;5;250m \u001b[39m\u001b[38;5;21;01mpcse\u001b[39;00m\u001b[38;5;21;01m.\u001b[39;00m\u001b[38;5;21;01mmodels\u001b[39;00m\u001b[38;5;250m \u001b[39m\u001b[38;5;28;01mimport\u001b[39;00m Wofost72_WLP_CWB, Wofost72_PP\n\u001b[1;32m----> 3\u001b[0m wofsim \u001b[38;5;241m=\u001b[39m Wofost72_WLP_CWB(\u001b[43mparameters\u001b[49m, weatherdataprovider, agromanagement)\n\u001b[0;32m      5\u001b[0m wofsim\u001b[38;5;241m.\u001b[39mrun(days\u001b[38;5;241m=\u001b[39m\u001b[38;5;241m10\u001b[39m)\n\u001b[0;32m      6\u001b[0m df_results \u001b[38;5;241m=\u001b[39m pd\u001b[38;5;241m.\u001b[39mDataFrame(wofsim\u001b[38;5;241m.\u001b[39mget_output())\n",
      "\u001b[1;31mNameError\u001b[0m: name 'parameters' is not defined"
     ]
    }
   ],
   "source": [
    "#running the model\n",
    "from pcse.models import Wofost72_WLP_CWB\n",
    "wofsim = Wofost72_WLP_CWB(parameters, weatherdataprovider, agromanagement)\n",
    "\n",
    "wofsim.run(days=10)\n",
    "df_results = pd.DataFrame(wofsim.get_output())\n",
    "df_results = df_results.set_index(\"day\")\n",
    "df_results.tail()"
   ]
  },
  {
   "cell_type": "markdown",
   "id": "03d90bb5",
   "metadata": {},
   "source": [
    "Visualization"
   ]
  },
  {
   "cell_type": "code",
   "execution_count": null,
   "id": "70805301",
   "metadata": {},
   "outputs": [],
   "source": [
    "fig, axes = plt.subplots(nrows=4, ncols=1, figsize=(12,12), sharex=True)\n",
    "for var, ax in zip([\"DVS\", \"TAGP\", \"LAI\", \"SM\"], axes.flatten()):\n",
    "    ax.plot(df_results.index, df_results[var], 'b-')\n",
    "    ax.set_title(var)\n",
    "plt.show()\n",
    "fig.autofmt_xdate()"
   ]
  }
 ],
 "metadata": {
  "kernelspec": {
   "display_name": "Python 3 (ipykernel)",
   "language": "python",
   "name": "python3"
  },
  "language_info": {
   "codemirror_mode": {
    "name": "ipython",
    "version": 3
   },
   "file_extension": ".py",
   "mimetype": "text/x-python",
   "name": "python",
   "nbconvert_exporter": "python",
   "pygments_lexer": "ipython3",
   "version": "3.10.16"
  }
 },
 "nbformat": 4,
 "nbformat_minor": 5
}
