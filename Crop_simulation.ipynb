{
 "cells": [
  {
   "cell_type": "markdown",
   "id": "286f3808-78ad-42b1-bfac-0fceea2cb07d",
   "metadata": {},
   "source": [
    "# Crop simulation"
   ]
  },
  {
   "cell_type": "markdown",
   "id": "4287909f-b4ed-41b5-ab1c-634d94c852b0",
   "metadata": {},
   "source": [
    "Doing imports "
   ]
  },
  {
   "cell_type": "code",
   "execution_count": 2,
   "id": "26fbf1c6-6c3d-4c38-96a9-a9851d02fd1d",
   "metadata": {},
   "outputs": [
    {
     "name": "stdout",
     "output_type": "stream",
     "text": [
      "This notebook was built with:\n",
      "python version: 3.10.16 | packaged by Anaconda, Inc. | (main, Dec 11 2024, 16:19:12) [MSC v.1929 64 bit (AMD64)]\n",
      "PCSE version: 6.0.9\n"
     ]
    }
   ],
   "source": [
    "%matplotlib inline\n",
    "#%matplotlib notebook\n",
    "import sys\n",
    "import pcse\n",
    "import pandas as pd \n",
    "import matplotlib\n",
    "matplotlib.style.use(\"ggplot\")\n",
    "import matplotlib.pyplot as plt\n",
    "print(\"This notebook was built with:\")\n",
    "print(f\"python version: {sys.version}\")\n",
    "print(f\"PCSE version: {pcse.__version__}\")"
   ]
  },
  {
   "cell_type": "markdown",
   "id": "8f74784a",
   "metadata": {},
   "source": [
    "## Transform the data into the right units\n"
   ]
  },
  {
   "cell_type": "markdown",
   "id": "9c75d86c",
   "metadata": {},
   "source": [
    "| Identifier | Parameter   | Description                              | From Unit  | To Unit           | Dataset |\n",
    "|------------|-------------|------------------------------------------|------------|-------------------|---------|\n",
    "| TXK        | TMAX        | Daily maximum temperature                | °C         | °C                | KL      |\n",
    "| TNK        | TMIN        | Daily minimum temperature                | °C         | °C                | KL      |\n",
    "| VPM        | VAP         | Mean daily vapour pressure               | hPa        | hPa               | KL      |\n",
    "| FM         | WIND        | Mean daily wind speed at 2 m above ground level | m/s        | m/s       | KL      |\n",
    "| RSK        | RAIN        | Precipitation                            | mm         | cm   | KL      |\n",
    "| FG_STRAHL  | IRRAD       | Daily global radiation                   | J/cm^2     | J/m^{-2} | Solar   |\n",
    "| SHK_TAG    | SNOWDEPTH   | Depth of snow cover (optional)           | cm         | cm                | KL      |"
   ]
  },
  {
   "cell_type": "markdown",
   "id": "39a196f1",
   "metadata": {},
   "source": [
    "#### Climate data"
   ]
  },
  {
   "cell_type": "code",
   "execution_count": 14,
   "id": "97890d92",
   "metadata": {},
   "outputs": [],
   "source": [
    "# Read the text file into a DataFrame\n",
    "data_bremen_kl = pd.read_csv('data_kl/bremen_daily_kl/tageswerte_KL_00691_18900101_20231231_hist/produkt_klima_tag_18900101_20231231_00691.txt', delimiter=';', skipfooter=1, engine='python')\n",
    "\n",
    "data_chemnitz_kl = pd.read_csv('data_kl/chemnitz_daily_kl/tageswerte_KL_00853_18820101_20231231_hist/produkt_klima_tag_18820101_20231231_00853.txt', delimiter=';', skipfooter=1, engine='python')\n",
    "\n",
    "# Check column names for both DataFrames\n",
    "# print(\"Columns in data_bremen_kl:\", data_bremen_kl.columns)\n",
    "# print(\"Columns in data_chemnitz_kl:\", data_chemnitz_kl.columns)\n",
    "\n",
    "# Convert units -> mm to cm, ensuring column names are stripped of extra spaces\n",
    "data_bremen_kl.columns = data_bremen_kl.columns.str.strip()\n",
    "data_chemnitz_kl.columns = data_chemnitz_kl.columns.str.strip()\n",
    "\n",
    "data_bremen_kl['RSK'] = data_bremen_kl['RSK'] / 10  \n",
    "data_chemnitz_kl['RSK'] = data_chemnitz_kl['RSK'] / 10\n",
    "\n",
    "# store data as xlsx\n",
    "data_bremen_kl.to_excel('bremen_daily_kl.xlsx', index=False)\n",
    "data_chemnitz_kl.to_excel('chemnitz_daily_kl.xlsx', index=False)"
   ]
  },
  {
   "cell_type": "markdown",
   "id": "e4dd5427",
   "metadata": {},
   "source": [
    "#### Temperature data"
   ]
  },
  {
   "cell_type": "code",
   "execution_count": 15,
   "id": "2067ac73",
   "metadata": {},
   "outputs": [],
   "source": [
    "# Read the text file into a DataFrame\n",
    "data_bremen_solar = pd.read_csv('data_solar/bremen/tageswerte_ST_00691_row/produkt_st_tag_20090101_20250331_00691.txt', delimiter=';', skipfooter=1, engine='python')\n",
    "\n",
    "data_chemnitz_solar = pd.read_csv('data_solar/chemnitz/tageswerte_ST_00853_row/produkt_st_tag_19810101_20250331_00853.txt', delimiter=';', skipfooter=1, engine='python')\n",
    "\n",
    "# Convert units J/cm² to J/m²\n",
    "data_bremen_solar['FG_STRAHL'] = data_bremen_solar['FG_STRAHL'] * 10000 \n",
    "data_chemnitz_solar['FG_STRAHL'] = data_chemnitz_solar['FG_STRAHL'] * 10000\n",
    "\n",
    "# store data as xlsx\n",
    "data_bremen_solar.to_excel('bremen_daily_solar.xlsx', index=False)\n",
    "data_chemnitz_solar.to_excel('chemnitz_daily_solar.xlsx', index=False)"
   ]
  },
  {
   "cell_type": "markdown",
   "id": "deea887d",
   "metadata": {},
   "source": [
    "### Transform to PCSE data format"
   ]
  },
  {
   "cell_type": "code",
   "execution_count": null,
   "id": "af8a136d",
   "metadata": {},
   "outputs": [],
   "source": []
  }
 ],
 "metadata": {
  "kernelspec": {
   "display_name": "py3_pcse",
   "language": "python",
   "name": "python3"
  },
  "language_info": {
   "codemirror_mode": {
    "name": "ipython",
    "version": 3
   },
   "file_extension": ".py",
   "mimetype": "text/x-python",
   "name": "python",
   "nbconvert_exporter": "python",
   "pygments_lexer": "ipython3",
   "version": "3.10.16"
  }
 },
 "nbformat": 4,
 "nbformat_minor": 5
}
