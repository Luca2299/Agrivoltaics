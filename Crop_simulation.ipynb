{
 "cells": [
  {
   "cell_type": "markdown",
   "id": "286f3808-78ad-42b1-bfac-0fceea2cb07d",
   "metadata": {},
   "source": [
    "# Crop simulation"
   ]
  },
  {
   "cell_type": "markdown",
   "id": "4287909f-b4ed-41b5-ab1c-634d94c852b0",
   "metadata": {},
   "source": [
    "Doing imports "
   ]
  },
  {
   "cell_type": "code",
   "execution_count": 2,
   "id": "26fbf1c6-6c3d-4c38-96a9-a9851d02fd1d",
   "metadata": {},
   "outputs": [
    {
     "name": "stdout",
     "output_type": "stream",
     "text": [
      "This notebook was built with:\n",
      "python version: 3.10.16 | packaged by Anaconda, Inc. | (main, Dec 11 2024, 16:19:12) [MSC v.1929 64 bit (AMD64)]\n",
      "PCSE version: 6.0.9\n"
     ]
    }
   ],
   "source": [
    "%matplotlib inline\n",
    "#%matplotlib notebook\n",
    "import sys\n",
    "import pcse\n",
    "import pandas\n",
    "import matplotlib\n",
    "matplotlib.style.use(\"ggplot\")\n",
    "import matplotlib.pyplot as plt\n",
    "print(\"This notebook was built with:\")\n",
    "print(f\"python version: {sys.version}\")\n",
    "print(f\"PCSE version: {pcse.__version__}\")"
   ]
  },
  {
   "cell_type": "code",
   "execution_count": null,
   "id": "26c9ac79-6bcb-4da7-a1a3-d31567cf5420",
   "metadata": {},
   "outputs": [],
   "source": []
  }
 ],
 "metadata": {
  "kernelspec": {
   "display_name": "Python 3 (ipykernel)",
   "language": "python",
   "name": "python3"
  },
  "language_info": {
   "codemirror_mode": {
    "name": "ipython",
    "version": 3
   },
   "file_extension": ".py",
   "mimetype": "text/x-python",
   "name": "python",
   "nbconvert_exporter": "python",
   "pygments_lexer": "ipython3",
   "version": "3.10.16"
  }
 },
 "nbformat": 4,
 "nbformat_minor": 5
}
