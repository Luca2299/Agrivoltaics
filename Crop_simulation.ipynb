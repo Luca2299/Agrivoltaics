{
 "cells": [
  {
   "cell_type": "markdown",
   "id": "286f3808-78ad-42b1-bfac-0fceea2cb07d",
   "metadata": {},
   "source": [
    "# Crop simulation"
   ]
  },
  {
   "cell_type": "markdown",
   "id": "4287909f-b4ed-41b5-ab1c-634d94c852b0",
   "metadata": {},
   "source": [
    "Doing imports "
   ]
  },
  {
   "cell_type": "code",
   "execution_count": 46,
   "id": "26fbf1c6-6c3d-4c38-96a9-a9851d02fd1d",
   "metadata": {},
   "outputs": [
    {
     "name": "stdout",
     "output_type": "stream",
     "text": [
      "This notebook was built with:\n",
      "python version: 3.10.16 | packaged by Anaconda, Inc. | (main, Dec 11 2024, 16:19:12) [MSC v.1929 64 bit (AMD64)]\n",
      "PCSE version: 6.0.9\n"
     ]
    }
   ],
   "source": [
    "%matplotlib inline\n",
    "#%matplotlib notebook\n",
    "import sys\n",
    "import pcse\n",
    "import pandas as pd \n",
    "import numpy as np\n",
    "import matplotlib\n",
    "matplotlib.style.use(\"ggplot\")\n",
    "import matplotlib.pyplot as plt\n",
    "print(\"This notebook was built with:\")\n",
    "print(f\"python version: {sys.version}\")\n",
    "print(f\"PCSE version: {pcse.__version__}\")"
   ]
  },
  {
   "cell_type": "markdown",
   "id": "8f74784a",
   "metadata": {},
   "source": [
    "## Transform the data into the right units\n"
   ]
  },
  {
   "cell_type": "markdown",
   "id": "9c75d86c",
   "metadata": {},
   "source": [
    "| Identifier | Parameter   | Description                              | From Unit  | To Unit           | Dataset |\n",
    "|------------|-------------|------------------------------------------|------------|-------------------|---------|\n",
    "| TXK        | TMAX        | Daily maximum temperature                | °C         | °C                | KL      |\n",
    "| TNK        | TMIN        | Daily minimum temperature                | °C         | °C                | KL      |\n",
    "| VPM        | VAP         | Mean daily vapour pressure               | hPa        | hPa               | KL      |\n",
    "| FM         | WIND        | Mean daily wind speed at 2 m above ground level | m/s        | m/s       | KL      |\n",
    "| RSK        | RAIN        | Precipitation                            | mm         | cm   | KL      |\n",
    "| FG_STRAHL  | IRRAD       | Daily global radiation                   | J/cm^2     | J/m^{-2} | Solar   |\n",
    "| SHK_TAG    | SNOWDEPTH   | Depth of snow cover (optional)           | cm         | cm                | KL      |"
   ]
  },
  {
   "cell_type": "markdown",
   "id": "39a196f1",
   "metadata": {},
   "source": [
    "#### Climate data"
   ]
  },
  {
   "cell_type": "code",
   "execution_count": 59,
   "id": "97890d92",
   "metadata": {},
   "outputs": [],
   "source": [
    "# Read the text file into a DataFrame\n",
    "data_bremen_kl = pd.read_csv('data_kl/bremen_daily_kl/tageswerte_KL_00691_18900101_20231231_hist/produkt_klima_tag_18900101_20231231_00691.txt', delimiter=';', skipfooter=1, engine='python')\n",
    "\n",
    "data_chemnitz_kl = pd.read_csv('data_kl/chemnitz_daily_kl/tageswerte_KL_00853_18820101_20231231_hist/produkt_klima_tag_18820101_20231231_00853.txt', delimiter=';', skipfooter=1, engine='python')\n",
    "\n",
    "# Convert units -> mm to cm, ensuring column names are stripped of extra spaces\n",
    "data_bremen_kl.columns = data_bremen_kl.columns.str.strip()\n",
    "data_chemnitz_kl.columns = data_chemnitz_kl.columns.str.strip()\n",
    "\n",
    "# Replace -999 with NaN\n",
    "data_bremen_kl.replace(-999, np.nan, inplace=True)\n",
    "data_chemnitz_kl.replace(-999, np.nan, inplace=True)\n"
   ]
  },
  {
   "cell_type": "markdown",
   "id": "e4dd5427",
   "metadata": {},
   "source": [
    "#### Temperature data"
   ]
  },
  {
   "cell_type": "code",
   "execution_count": 60,
   "id": "2067ac73",
   "metadata": {},
   "outputs": [],
   "source": [
    "# Read the text file into a DataFrame\n",
    "data_bremen_solar = pd.read_csv('data_solar/bremen/tageswerte_ST_00691_row/produkt_st_tag_20090101_20250331_00691.txt', delimiter=';', skipfooter=1, engine='python')\n",
    "\n",
    "data_chemnitz_solar = pd.read_csv('data_solar/chemnitz/tageswerte_ST_00853_row/produkt_st_tag_19810101_20250331_00853.txt', delimiter=';', skipfooter=1, engine='python')\n",
    "\n",
    "# Replace -999 with NaN\n",
    "data_bremen_solar.replace(-999, np.nan, inplace=True)\n",
    "data_chemnitz_solar.replace(-999, np.nan, inplace=True)"
   ]
  },
  {
   "cell_type": "code",
   "execution_count": null,
   "id": "c31546e9",
   "metadata": {},
   "outputs": [],
   "source": [
    "# find the rows without NaNs\n",
    "\n",
    "# Create a boolean mask for rows without NaN values\n",
    "mask_bremen = data_bremen_solar.notna().all(axis=1)\n",
    "mask_chemnitz = data_chemnitz_solar.notna().all(axis=1)\n",
    "\n",
    "# Filter and print the rows without NaN values\n",
    "data_bremen_solar_cleaned = data_bremen_solar[mask_bremen]\n",
    "data_chemnitz_solar_cleaned = data_chemnitz_solar[mask_chemnitz]\n",
    "\n",
    "print(\"Bremen Solar Data without NaNs:\")\n",
    "print(data_bremen_solar_cleaned)\n",
    "\n",
    "print(\"Chemnitz Solar Data without NaNs:\")\n",
    "print(data_chemnitz_solar_cleaned)"
   ]
  },
  {
   "cell_type": "markdown",
   "id": "deea887d",
   "metadata": {},
   "source": [
    "### Transform to PCSE data format"
   ]
  },
  {
   "cell_type": "code",
   "execution_count": 61,
   "id": "af8a136d",
   "metadata": {},
   "outputs": [],
   "source": [
    "# Map and transform the data to PCSE format\n",
    "data_bremen_pcse = pd.DataFrame({\n",
    "    #'DAY': pd.to_datetime(data_bremen_kl['MESS_DATUM'], format='%Y%m%d'),\n",
    "    'DAY': data_bremen_kl['MESS_DATUM'],\n",
    "    'TMIN': data_bremen_kl['TNK'],  # Example: map to minimum temperature\n",
    "    'TMAX': data_bremen_kl['TXK'],  # Example: map to maximum temperature\n",
    "    'VAP': data_bremen_kl['VPM'],  # Example: map to vapor pressure\n",
    "    'RAIN': data_bremen_kl['RSK'] / 10,  # Convert mm to cm if needed\n",
    "    'IRRAD': data_bremen_solar['FG_STRAHL'] * 10000,  # Convert J/cm² to J/m²\n",
    "    'WIND': data_bremen_kl['FM'],  # Assuming this is the wind speed\n",
    "})"
   ]
  },
  {
   "cell_type": "code",
   "execution_count": 62,
   "id": "54419a06",
   "metadata": {},
   "outputs": [
    {
     "name": "stdout",
     "output_type": "stream",
     "text": [
      "Empty DataFrame\n",
      "Columns: [DAY, TMIN, TMAX, VAP, RAIN, IRRAD, WIND]\n",
      "Index: []\n"
     ]
    }
   ],
   "source": [
    "# Map and transform the data to PCSE format\n",
    "data_chemnitz_pcse = pd.DataFrame({\n",
    "    #'DAY': pd.to_datetime(data_chemnitz_kl['MESS_DATUM'], format='%Y%m%d'),\n",
    "    'DAY': data_chemnitz_kl['MESS_DATUM'],\n",
    "    'TMIN': data_chemnitz_kl['TNK'],  # Example: map to minimum temperature\n",
    "    'TMAX': data_chemnitz_kl['TXK'],  # Example: map to maximum temperature\n",
    "    'VAP': data_chemnitz_kl['VPM'],  # Example: map to vapor pressure\n",
    "    'RAIN': data_chemnitz_kl['RSK'] / 10,  # Convert mm to cm if needed\n",
    "    'IRRAD': data_chemnitz_solar['FG_STRAHL'] * 10000,  # Convert J/cm² to J/m²\n",
    "    'WIND': data_chemnitz_kl['FM'],  # Assuming this is the wind speed\n",
    "})\n",
    "\n",
    "#print(data_chemnitz_pcse)\n",
    "\n",
    "# Remove rows with any NaN values\n",
    "data_cleaned = data_chemnitz_pcse.dropna()\n",
    "print(data_cleaned)\n",
    "\n",
    "# Filter the data for a specific date range (e.g., from 2009-01-01 to 2023-12-31)\n",
    "#data_chemnitz_filtered = data_chemnitz_pcse[data_chemnitz_pcse['DAY'] >= 20090101]\n",
    "#data_chemnitz_filtered.to_csv('data_chemnitz_filtered.csv', index=False, na_rep='NaN')\n",
    "\n",
    "\n",
    "# Write to CSV file without site characteristics\n",
    "#data_chemnitz_pcse.to_csv('data_chemnitz_pcse.csv', index=False, na_rep='NaN')\n"
   ]
  },
  {
   "cell_type": "code",
   "execution_count": null,
   "id": "8673f6f8",
   "metadata": {},
   "outputs": [],
   "source": [
    "# Site characteristics as a string\n",
    "site_characteristics = \"\"\"## Site Characteristics\n",
    "Country     = 'Germany'\n",
    "Station     = 'Chemnitz'\n",
    "Description = 'Observed data from Station Chemnitz'\n",
    "Source      = 'Your Data Source'\n",
    "Contact     = 'Your Contact'\n",
    "Longitude = 12.92; Latitude = 50.83; Elevation = 300; AngstromA = 0.25; AngstromB = 0.50; HasSunshine = False\n",
    "## Daily weather observations (missing values are NaN)\n",
    "\"\"\"\n",
    "\n",
    "# Convert DataFrame to CSV string\n",
    "csv_data = data_chemnitz_pcse.to_csv(index=False, na_rep='NaN')\n",
    "\n",
    "# Combine site characteristics and CSV data\n",
    "full_csv_content = site_characteristics + csv_data\n",
    "\n",
    "# Write to CSV file\n",
    "with open('chemnitz_withMeta.csv', 'w') as f:\n",
    "    f.write(full_csv_content)\n",
    "\n",
    "print(\"CSV file with site characteristics created.\")"
   ]
  },
  {
   "cell_type": "code",
   "execution_count": 55,
   "id": "87ed0c72",
   "metadata": {},
   "outputs": [
    {
     "ename": "AssertionError",
     "evalue": "Invalid sunshine duration value (nan) encountered at day 1882-01-01",
     "output_type": "error",
     "traceback": [
      "\u001b[1;31m---------------------------------------------------------------------------\u001b[0m",
      "\u001b[1;31mAssertionError\u001b[0m                            Traceback (most recent call last)",
      "Cell \u001b[1;32mIn[55], line 5\u001b[0m\n\u001b[0;32m      3\u001b[0m \u001b[38;5;66;03m# Load the weather data provider\u001b[39;00m\n\u001b[0;32m      4\u001b[0m weatherfile \u001b[38;5;241m=\u001b[39m \u001b[38;5;124m\"\u001b[39m\u001b[38;5;124mchemnitz_withMeta.csv\u001b[39m\u001b[38;5;124m\"\u001b[39m\n\u001b[1;32m----> 5\u001b[0m weatherdataprovider \u001b[38;5;241m=\u001b[39m \u001b[43mCSVWeatherDataProvider\u001b[49m\u001b[43m(\u001b[49m\u001b[43mweatherfile\u001b[49m\u001b[43m,\u001b[49m\u001b[43m \u001b[49m\u001b[43mdelimiter\u001b[49m\u001b[38;5;241;43m=\u001b[39;49m\u001b[38;5;124;43m'\u001b[39;49m\u001b[38;5;124;43m,\u001b[39;49m\u001b[38;5;124;43m'\u001b[39;49m\u001b[43m,\u001b[49m\u001b[43m \u001b[49m\u001b[43mdateformat\u001b[49m\u001b[38;5;241;43m=\u001b[39;49m\u001b[38;5;124;43m'\u001b[39;49m\u001b[38;5;124;43m%\u001b[39;49m\u001b[38;5;124;43mY\u001b[39;49m\u001b[38;5;124;43m%\u001b[39;49m\u001b[38;5;124;43mm\u001b[39;49m\u001b[38;5;132;43;01m%d\u001b[39;49;00m\u001b[38;5;124;43m'\u001b[39;49m\u001b[43m,\u001b[49m\u001b[43m \u001b[49m\u001b[43mETmodel\u001b[49m\u001b[38;5;241;43m=\u001b[39;49m\u001b[38;5;124;43m'\u001b[39;49m\u001b[38;5;124;43mPM\u001b[39;49m\u001b[38;5;124;43m'\u001b[39;49m\u001b[43m,\u001b[49m\u001b[43m \u001b[49m\u001b[43mforce_reload\u001b[49m\u001b[38;5;241;43m=\u001b[39;49m\u001b[38;5;28;43;01mFalse\u001b[39;49;00m\u001b[43m)\u001b[49m\n\u001b[0;32m      6\u001b[0m \u001b[38;5;28mprint\u001b[39m(weatherdataprovider)\n",
      "File \u001b[1;32mc:\\Users\\krist\\anaconda3\\envs\\py3_pcse\\lib\\site-packages\\pcse\\input\\csvweatherdataprovider.py:157\u001b[0m, in \u001b[0;36mCSVWeatherDataProvider.__init__\u001b[1;34m(self, csv_fname, delimiter, dateformat, ETmodel, force_reload)\u001b[0m\n\u001b[0;32m    155\u001b[0m     csv_file\u001b[38;5;241m.\u001b[39mreadline()  \u001b[38;5;66;03m# Skip first line\u001b[39;00m\n\u001b[0;32m    156\u001b[0m     \u001b[38;5;28mself\u001b[39m\u001b[38;5;241m.\u001b[39m_read_meta(csv_file)\n\u001b[1;32m--> 157\u001b[0m     \u001b[38;5;28;43mself\u001b[39;49m\u001b[38;5;241;43m.\u001b[39;49m\u001b[43m_read_observations\u001b[49m\u001b[43m(\u001b[49m\u001b[43mcsv_file\u001b[49m\u001b[43m,\u001b[49m\u001b[43m \u001b[49m\u001b[43mdelimiter\u001b[49m\u001b[43m)\u001b[49m\n\u001b[0;32m    158\u001b[0m \u001b[38;5;28mself\u001b[39m\u001b[38;5;241m.\u001b[39m_write_cache_file(\u001b[38;5;28mself\u001b[39m\u001b[38;5;241m.\u001b[39mfp_csv_fname)\n",
      "File \u001b[1;32mc:\\Users\\krist\\anaconda3\\envs\\py3_pcse\\lib\\site-packages\\pcse\\input\\csvweatherdataprovider.py:202\u001b[0m, in \u001b[0;36mCSVWeatherDataProvider._read_observations\u001b[1;34m(self, csv_file, delimiter)\u001b[0m\n\u001b[0;32m    200\u001b[0m func \u001b[38;5;241m=\u001b[39m \u001b[38;5;28mself\u001b[39m\u001b[38;5;241m.\u001b[39mobs_conversions[label]\n\u001b[0;32m    201\u001b[0m value \u001b[38;5;241m=\u001b[39m \u001b[38;5;28mfloat\u001b[39m(d[label])\n\u001b[1;32m--> 202\u001b[0m r \u001b[38;5;241m=\u001b[39m \u001b[43mfunc\u001b[49m\u001b[43m(\u001b[49m\u001b[43mvalue\u001b[49m\u001b[43m,\u001b[49m\u001b[43m \u001b[49m\u001b[43mday\u001b[49m\u001b[43m)\u001b[49m\n\u001b[0;32m    203\u001b[0m \u001b[38;5;28;01mif\u001b[39;00m math\u001b[38;5;241m.\u001b[39misnan(r):\n\u001b[0;32m    204\u001b[0m     \u001b[38;5;28;01mif\u001b[39;00m label \u001b[38;5;241m==\u001b[39m \u001b[38;5;124m\"\u001b[39m\u001b[38;5;124mSNOWDEPTH\u001b[39m\u001b[38;5;124m\"\u001b[39m:\n",
      "File \u001b[1;32mc:\\Users\\krist\\anaconda3\\envs\\py3_pcse\\lib\\site-packages\\pcse\\input\\csvweatherdataprovider.py:46\u001b[0m, in \u001b[0;36mIRRADFromSunshineDuration.__call__\u001b[1;34m(self, value, day)\u001b[0m\n\u001b[0;32m     39\u001b[0m \u001b[38;5;28;01mdef\u001b[39;00m\u001b[38;5;250m \u001b[39m\u001b[38;5;21m__call__\u001b[39m(\u001b[38;5;28mself\u001b[39m, value, day):\n\u001b[0;32m     40\u001b[0m \u001b[38;5;250m    \u001b[39m\u001b[38;5;124;03m\"\"\"Computes irradiance in J/m2/day from sunshine duration by applying the Angstrom equation\u001b[39;00m\n\u001b[0;32m     41\u001b[0m \n\u001b[0;32m     42\u001b[0m \u001b[38;5;124;03m    :param value: sunshine duration in hours\u001b[39;00m\n\u001b[0;32m     43\u001b[0m \u001b[38;5;124;03m    :param day: the day\u001b[39;00m\n\u001b[0;32m     44\u001b[0m \u001b[38;5;124;03m    :return: irradiance in J/m2/day\u001b[39;00m\n\u001b[0;32m     45\u001b[0m \u001b[38;5;124;03m    \"\"\"\u001b[39;00m\n\u001b[1;32m---> 46\u001b[0m     \u001b[38;5;28;01massert\u001b[39;00m \u001b[38;5;241m0\u001b[39m \u001b[38;5;241m<\u001b[39m\u001b[38;5;241m=\u001b[39m value \u001b[38;5;241m<\u001b[39m\u001b[38;5;241m=\u001b[39m \u001b[38;5;241m24\u001b[39m, \\\n\u001b[0;32m     47\u001b[0m         \u001b[38;5;124m\"\u001b[39m\u001b[38;5;124mInvalid sunshine duration value (\u001b[39m\u001b[38;5;132;01m%s\u001b[39;00m\u001b[38;5;124m) encountered at day \u001b[39m\u001b[38;5;132;01m%s\u001b[39;00m\u001b[38;5;124m\"\u001b[39m \u001b[38;5;241m%\u001b[39m (value, day)\n\u001b[0;32m     48\u001b[0m     irrad \u001b[38;5;241m=\u001b[39m angstrom(day, \u001b[38;5;28mself\u001b[39m\u001b[38;5;241m.\u001b[39mlatitude, value, \u001b[38;5;28mself\u001b[39m\u001b[38;5;241m.\u001b[39mangstA, \u001b[38;5;28mself\u001b[39m\u001b[38;5;241m.\u001b[39mangstB)\n\u001b[0;32m     50\u001b[0m     \u001b[38;5;28;01mreturn\u001b[39;00m irrad\n",
      "\u001b[1;31mAssertionError\u001b[0m: Invalid sunshine duration value (nan) encountered at day 1882-01-01"
     ]
    }
   ],
   "source": [
    "from pcse.fileinput import CSVWeatherDataProvider\n",
    "\n",
    "# Load the weather data provider\n",
    "weatherfile = \"chemnitz_withMeta.csv\"\n",
    "weatherdataprovider = CSVWeatherDataProvider(weatherfile, delimiter=',', dateformat='%Y%m%d', ETmodel='PM', force_reload=False)\n",
    "print(weatherdataprovider)"
   ]
  },
  {
   "cell_type": "code",
   "execution_count": null,
   "id": "8b2d3fe7",
   "metadata": {},
   "outputs": [
    {
     "name": "stdout",
     "output_type": "stream",
     "text": [
      "CSV file created.\n"
     ]
    }
   ],
   "source": [
    "import pandas as pd\n",
    "\n",
    "# Sample metadata for Bremen\n",
    "metadata = {\n",
    "    'Country': 'Germany',\n",
    "    'Station': 'Bremen',\n",
    "    'Description': 'Observed data from Station Bremen',\n",
    "    'Source': 'Your Data Source',\n",
    "    'Contact': 'Your Contact',\n",
    "    'Longitude': 8.7981,\n",
    "    'Latitude': 53.0451,\n",
    "    'Elevation': 4.04,\n",
    "    'AngstromA': 0.25,\n",
    "    'AngstromB': 0.50,\n",
    "    'HasSunshine': False\n",
    "}\n",
    "\n",
    "# Convert IRRAD to kJ/m² (from J/m²)\n",
    "#data_bremen_pcse['IRRAD'] = data_bremen_pcse['IRRAD'] / 1000\n",
    "\n",
    "# Convert VAP from hPa to kPa\n",
    "#data_bremen_pcse['VAP'] = data_bremen_pcse['VAP'] / 10\n",
    "\n",
    "# Prepare CSV content\n",
    "csv_content = []\n",
    "\n",
    "# Add metadata\n",
    "csv_content.append(\"## Site Characteristics\")\n",
    "for key, value in metadata.items():\n",
    "    csv_content.append(f\"{key} = '{value}'\")\n",
    "\n",
    "# Add data header\n",
    "csv_content.append(\"## Daily weather observations (missing values are NaN)\")\n",
    "csv_content.append(\",\".join(data_bremen_pcse.columns))\n",
    "\n",
    "# Add data rows\n",
    "for index, row in data_bremen_pcse.iterrows():\n",
    "    csv_content.append(\",\".join(map(str, row.values)))\n",
    "\n",
    "# Write to CSV\n",
    "with open('bremen_weather_data.csv', 'w') as f:\n",
    "    for line in csv_content:\n",
    "        f.write(line + \"\\n\")\n",
    "\n",
    "print(\"CSV file created.\")"
   ]
  },
  {
   "cell_type": "markdown",
   "id": "47962fc2",
   "metadata": {},
   "source": [
    "### Test weather data provider with example exel file"
   ]
  },
  {
   "cell_type": "code",
   "execution_count": 19,
   "id": "960e224e",
   "metadata": {},
   "outputs": [
    {
     "name": "stdout",
     "output_type": "stream",
     "text": [
      "Failed reading row: 13. Skipping...\n",
      "Weather data provided by: ExcelWeatherDataProvider\n",
      "--------Description---------\n",
      "Weather data for:\n",
      "Country: Netherlands\n",
      "Station: Wageningen, Location Haarweg\n",
      "Description: Observed data from Station Haarweg in Wageningen\n",
      "Source: Meteorology and Air Quality Group, Wageningen University\n",
      "Contact: Peter Uithol\n",
      "----Site characteristics----\n",
      "Elevation:    7.0\n",
      "Latitude:  51.970\n",
      "Longitude:  5.670\n",
      "Data available for 2004-01-02 - 2008-12-31\n",
      "Number of missing days: 32\n",
      "\n"
     ]
    }
   ],
   "source": [
    "from pcse.fileinput import ExcelWeatherDataProvider\n",
    "# Ensure the file is properly created as an Excel file\n",
    "# data_chemnitz_pcse.to_excel(\"chemnitz_daily.xlsx\", index=False)\n",
    "\n",
    "# Load the weather data provider\n",
    "weatherfile = \"nl1.xlsx\"\n",
    "weatherdataprovider = ExcelWeatherDataProvider(weatherfile)\n",
    "print(weatherdataprovider)"
   ]
  },
  {
   "cell_type": "markdown",
   "id": "4a48fa81",
   "metadata": {},
   "source": [
    "# Soil and Agro data"
   ]
  },
  {
   "cell_type": "code",
   "execution_count": 50,
   "id": "2ffc9edb",
   "metadata": {},
   "outputs": [
    {
     "ename": "FileNotFoundError",
     "evalue": "[Errno 2] No such file or directory: 'data/crop/potato.yaml'",
     "output_type": "error",
     "traceback": [
      "\u001b[1;31m---------------------------------------------------------------------------\u001b[0m",
      "\u001b[1;31mFileNotFoundError\u001b[0m                         Traceback (most recent call last)",
      "Cell \u001b[1;32mIn[50], line 8\u001b[0m\n\u001b[0;32m      5\u001b[0m \u001b[38;5;28;01mfrom\u001b[39;00m\u001b[38;5;250m \u001b[39m\u001b[38;5;21;01mpcse\u001b[39;00m\u001b[38;5;21;01m.\u001b[39;00m\u001b[38;5;21;01mbase\u001b[39;00m\u001b[38;5;250m \u001b[39m\u001b[38;5;28;01mimport\u001b[39;00m ParameterProvider\n\u001b[0;32m      7\u001b[0m \u001b[38;5;66;03m#load crop file\u001b[39;00m\n\u001b[1;32m----> 8\u001b[0m \u001b[38;5;28;01mwith\u001b[39;00m \u001b[38;5;28;43mopen\u001b[39;49m\u001b[43m(\u001b[49m\u001b[38;5;124;43m'\u001b[39;49m\u001b[38;5;124;43mdata/crop/potato.yaml\u001b[39;49m\u001b[38;5;124;43m'\u001b[39;49m\u001b[43m,\u001b[49m\u001b[43m \u001b[49m\u001b[38;5;124;43m'\u001b[39;49m\u001b[38;5;124;43mr\u001b[39;49m\u001b[38;5;124;43m'\u001b[39;49m\u001b[43m)\u001b[49m \u001b[38;5;28;01mas\u001b[39;00m file: \u001b[38;5;66;03m#alternative: from pcse.input import YAMLCropDataProvider\u001b[39;00m\n\u001b[0;32m      9\u001b[0m     cropd \u001b[38;5;241m=\u001b[39m yaml\u001b[38;5;241m.\u001b[39msafe_load(file)\n\u001b[0;32m     11\u001b[0m \u001b[38;5;66;03m#load dummy soil file\u001b[39;00m\n",
      "File \u001b[1;32mc:\\Users\\krist\\anaconda3\\envs\\py3_pcse\\lib\\site-packages\\IPython\\core\\interactiveshell.py:324\u001b[0m, in \u001b[0;36m_modified_open\u001b[1;34m(file, *args, **kwargs)\u001b[0m\n\u001b[0;32m    317\u001b[0m \u001b[38;5;28;01mif\u001b[39;00m file \u001b[38;5;129;01min\u001b[39;00m {\u001b[38;5;241m0\u001b[39m, \u001b[38;5;241m1\u001b[39m, \u001b[38;5;241m2\u001b[39m}:\n\u001b[0;32m    318\u001b[0m     \u001b[38;5;28;01mraise\u001b[39;00m \u001b[38;5;167;01mValueError\u001b[39;00m(\n\u001b[0;32m    319\u001b[0m         \u001b[38;5;124mf\u001b[39m\u001b[38;5;124m\"\u001b[39m\u001b[38;5;124mIPython won\u001b[39m\u001b[38;5;124m'\u001b[39m\u001b[38;5;124mt let you open fd=\u001b[39m\u001b[38;5;132;01m{\u001b[39;00mfile\u001b[38;5;132;01m}\u001b[39;00m\u001b[38;5;124m by default \u001b[39m\u001b[38;5;124m\"\u001b[39m\n\u001b[0;32m    320\u001b[0m         \u001b[38;5;124m\"\u001b[39m\u001b[38;5;124mas it is likely to crash IPython. If you know what you are doing, \u001b[39m\u001b[38;5;124m\"\u001b[39m\n\u001b[0;32m    321\u001b[0m         \u001b[38;5;124m\"\u001b[39m\u001b[38;5;124myou can use builtins\u001b[39m\u001b[38;5;124m'\u001b[39m\u001b[38;5;124m open.\u001b[39m\u001b[38;5;124m\"\u001b[39m\n\u001b[0;32m    322\u001b[0m     )\n\u001b[1;32m--> 324\u001b[0m \u001b[38;5;28;01mreturn\u001b[39;00m io_open(file, \u001b[38;5;241m*\u001b[39margs, \u001b[38;5;241m*\u001b[39m\u001b[38;5;241m*\u001b[39mkwargs)\n",
      "\u001b[1;31mFileNotFoundError\u001b[0m: [Errno 2] No such file or directory: 'data/crop/potato.yaml'"
     ]
    }
   ],
   "source": [
    "#crop, soil, site and agro\n",
    "from pcse.util import DummySoilDataProvider\n",
    "from pcse.input import WOFOST72SiteDataProvider \n",
    "import yaml\n",
    "from pcse.base import ParameterProvider\n",
    "\n",
    "#load crop file\n",
    "with open('data/crop/potato.yaml', 'r') as file: #alternative: from pcse.input import YAMLCropDataProvider\n",
    "    cropd = yaml.safe_load(file)\n",
    "\n",
    "#load dummy soil file\n",
    "soild = DummySoilDataProvider() #use dummy soil: https://pcse.readthedocs.io/en/stable/code.html#pcse.util.DummySoilDataProvider\n",
    "\n",
    "#load some standard site\n",
    "sited = WOFOST72SiteDataProvider(WAV=10) #https://pcse.readthedocs.io/en/stable/code.html#wofost72sitedataprovider\n",
    "\n",
    "#put everything together with ParameterProvider\n",
    "parameters = ParameterProvider(cropdata=cropd, soildata=soild, sitedata=sited)\n",
    "\n",
    "#agro file (is not completed yet)\n",
    "with open('data/agro/potato_agro_test.yaml', 'r') as file:\n",
    "    agromanagement = yaml.safe_load(file)"
   ]
  }
 ],
 "metadata": {
  "kernelspec": {
   "display_name": "py3_pcse",
   "language": "python",
   "name": "python3"
  },
  "language_info": {
   "codemirror_mode": {
    "name": "ipython",
    "version": 3
   },
   "file_extension": ".py",
   "mimetype": "text/x-python",
   "name": "python",
   "nbconvert_exporter": "python",
   "pygments_lexer": "ipython3",
   "version": "3.10.16"
  }
 },
 "nbformat": 4,
 "nbformat_minor": 5
}
