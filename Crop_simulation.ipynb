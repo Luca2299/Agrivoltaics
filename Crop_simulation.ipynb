{
 "cells": [
  {
   "cell_type": "markdown",
   "id": "286f3808-78ad-42b1-bfac-0fceea2cb07d",
   "metadata": {},
   "source": [
    "# Crop simulation"
   ]
  },
  {
   "cell_type": "markdown",
   "id": "4287909f-b4ed-41b5-ab1c-634d94c852b0",
   "metadata": {},
   "source": [
    "Doing imports "
   ]
  },
  {
   "cell_type": "code",
   "execution_count": 2,
   "id": "26fbf1c6-6c3d-4c38-96a9-a9851d02fd1d",
   "metadata": {},
   "outputs": [
    {
     "name": "stdout",
     "output_type": "stream",
     "text": [
      "This notebook was built with:\n",
      "python version: 3.10.16 | packaged by Anaconda, Inc. | (main, Dec 11 2024, 16:19:12) [MSC v.1929 64 bit (AMD64)]\n",
      "PCSE version: 6.0.9\n"
     ]
    }
   ],
   "source": [
    "%matplotlib inline\n",
    "#%matplotlib notebook\n",
    "import sys\n",
    "import pcse\n",
    "import pandas as pd\n",
    "import matplotlib\n",
    "matplotlib.style.use(\"ggplot\")\n",
    "import matplotlib.pyplot as plt\n",
    "print(\"This notebook was built with:\")\n",
    "print(f\"python version: {sys.version}\")\n",
    "print(f\"PCSE version: {pcse.__version__}\")"
   ]
  },
  {
   "cell_type": "markdown",
   "id": "a47fb8ab",
   "metadata": {},
   "source": [
    "## Transform the data into the right units\n"
   ]
  },
  {
   "cell_type": "markdown",
   "id": "9c75d86c",
   "metadata": {},
   "source": [
    "| Identifier | Parameter   | Description                              | From Unit  | To Unit           | Dataset |\n",
    "|------------|-------------|------------------------------------------|------------|-------------------|---------|\n",
    "| TXK        | TMAX        | Daily maximum temperature                | °C         | °C                | KL      |\n",
    "| TNK        | TMIN        | Daily minimum temperature                | °C         | °C                | KL      |\n",
    "| VPM        | VAP         | Mean daily vapour pressure               | hPa        | hPa               | KL      |\n",
    "| FM         | WIND        | Mean daily wind speed at 2 m above ground level | m/s        | m/s       | KL      |\n",
    "| RSK        | RAIN        | Precipitation                            | mm         | cm   | KL      |\n",
    "| FG_STRAHL  | IRRAD       | Daily global radiation                   | J/cm^2     | J/m^{-2} | Solar   |\n",
    "| SHK_TAG    | SNOWDEPTH   | Depth of snow cover (optional)           | cm         | cm                | KL      |"
   ]
  },
  {
   "cell_type": "markdown",
   "id": "39a196f1",
   "metadata": {},
   "source": [
    "#### Climate data"
   ]
  },
  {
   "cell_type": "code",
   "execution_count": 3,
   "id": "97890d92",
   "metadata": {},
   "outputs": [],
   "source": [
    "# Read the text file into a DataFrame\n",
    "data_bremen_kl = pd.read_csv('data_kl/bremen_daily_kl/tageswerte_KL_00691_18900101_20231231_hist/produkt_klima_tag_18900101_20231231_00691.txt', delimiter=';', skipfooter=1, engine='python')\n",
    "\n",
    "data_chemnitz_kl = pd.read_csv('data_kl/chemnitz_daily_kl/tageswerte_KL_00853_18820101_20231231_hist/produkt_klima_tag_18820101_20231231_00853.txt', delimiter=';', skipfooter=1, engine='python')\n",
    "\n",
    "# Convert units -> mm to cm, ensuring column names are stripped of extra spaces\n",
    "data_bremen_kl.columns = data_bremen_kl.columns.str.strip()\n",
    "data_chemnitz_kl.columns = data_chemnitz_kl.columns.str.strip()\n",
    "\n",
    "# Replace -999 with NaN\n",
    "data_bremen_kl.replace(-999, np.nan, inplace=True)\n",
    "data_chemnitz_kl.replace(-999, np.nan, inplace=True)\n"
   ]
  },
  {
   "cell_type": "markdown",
   "id": "e4dd5427",
   "metadata": {},
   "source": [
    "#### Solar data"
   ]
  },
  {
   "cell_type": "code",
   "execution_count": 10,
   "id": "2067ac73",
   "metadata": {},
   "outputs": [],
   "source": [
    "# Read the text file into a DataFrame\n",
    "data_bremen_solar = pd.read_csv('data_solar/bremen/tageswerte_ST_00691_row/produkt_st_tag_20090101_20250331_00691.txt', delimiter=';', skipfooter=1, engine='python')\n",
    "\n",
    "data_chemnitz_solar = pd.read_csv('data_solar/chemnitz/tageswerte_ST_00853_row/produkt_st_tag_19810101_20250331_00853.txt', delimiter=';', skipfooter=1, engine='python')\n",
    "\n",
    "data_bremen_solar.drop(columns=['eor'], inplace=True)\n",
    "\n",
    "# Replace -999 with NaN\n",
    "data_bremen_solar.replace(-999, np.nan, inplace=True)\n",
    "data_chemnitz_solar.replace(-999, np.nan, inplace=True)"
   ]
  },
  {
   "cell_type": "code",
   "execution_count": 11,
   "id": "c31546e9",
   "metadata": {},
   "outputs": [
    {
     "name": "stdout",
     "output_type": "stream",
     "text": [
      "Bremen Solar Data without NaNs:\n",
      "Empty DataFrame\n",
      "Columns: [STATIONS_ID, MESS_DATUM, QN_592, ATMO_STRAHL, FD_STRAHL, FG_STRAHL, SD_STRAHL]\n",
      "Index: []\n",
      "Chemnitz Solar Data without NaNs:\n",
      "Empty DataFrame\n",
      "Columns: [STATIONS_ID, MESS_DATUM, QN_592, ATMO_STRAHL, FD_STRAHL, FG_STRAHL, SD_STRAHL, eor]\n",
      "Index: []\n"
     ]
    }
   ],
   "source": [
    "# find the rows without NaNs\n",
    "\n",
    "# Create a boolean mask for rows without NaN values\n",
    "mask_bremen = data_bremen_solar.notna().all(axis=1)\n",
    "mask_chemnitz = data_chemnitz_solar.notna().all(axis=1)\n",
    "\n",
    "# Filter and print the rows without NaN values\n",
    "data_bremen_solar_cleaned = data_bremen_solar[mask_bremen]\n",
    "data_chemnitz_solar_cleaned = data_chemnitz_solar[mask_chemnitz]\n",
    "\n",
    "print(\"Bremen Solar Data without NaNs:\")\n",
    "print(data_bremen_solar_cleaned)\n",
    "\n",
    "print(\"Chemnitz Solar Data without NaNs:\")\n",
    "print(data_chemnitz_solar_cleaned)"
   ]
  },
  {
   "cell_type": "markdown",
   "id": "deea887d",
   "metadata": {},
   "source": [
    "### Transform to PCSE data format"
   ]
  },
  {
   "cell_type": "code",
   "execution_count": 6,
   "id": "af8a136d",
   "metadata": {},
   "outputs": [],
   "source": [
    "# Map and transform the data to PCSE format\n",
    "data_bremen_pcse = pd.DataFrame({\n",
    "    #'DAY': pd.to_datetime(data_bremen_kl['MESS_DATUM'], format='%Y%m%d'),\n",
    "    'DAY': data_bremen_kl['MESS_DATUM'],\n",
    "    'TMIN': data_bremen_kl['TNK'],  # Example: map to minimum temperature\n",
    "    'TMAX': data_bremen_kl['TXK'],  # Example: map to maximum temperature\n",
    "    'VAP': data_bremen_kl['VPM'],  # Example: map to vapor pressure\n",
    "    'RAIN': data_bremen_kl['RSK'] / 10,  # Convert mm to cm if needed\n",
    "    'IRRAD': data_bremen_solar['FG_STRAHL'] * 10000,  # Convert J/cm² to J/m²\n",
    "    'WIND': data_bremen_kl['FM'],  # Assuming this is the wind speed\n",
    "})"
   ]
  },
  {
   "cell_type": "code",
   "execution_count": 8,
   "id": "54419a06",
   "metadata": {},
   "outputs": [
    {
     "name": "stdout",
     "output_type": "stream",
     "text": [
      "DAY          0\n",
      "TMIN       233\n",
      "TMAX       233\n",
      "VAP      11777\n",
      "RAIN       130\n",
      "IRRAD    29480\n",
      "WIND     21670\n",
      "dtype: int64\n",
      "         DAY   TMIN   TMAX    VAP   RAIN  IRRAD   WIND\n",
      "0      False  False  False  False  False   True   True\n",
      "1      False  False  False  False  False   True   True\n",
      "2      False  False  False  False  False   True   True\n",
      "3      False  False  False  False  False   True   True\n",
      "4      False  False  False  False  False   True   True\n",
      "...      ...    ...    ...    ...    ...    ...    ...\n",
      "44431  False  False  False  False  False   True  False\n",
      "44432  False  False  False  False  False   True  False\n",
      "44433  False  False  False  False  False   True  False\n",
      "44434  False  False  False  False  False   True  False\n",
      "44435  False  False  False  False  False   True  False\n",
      "\n",
      "[44436 rows x 7 columns]\n"
     ]
    }
   ],
   "source": [
    "# Map and transform the data to PCSE format\n",
    "data_chemnitz_pcse = pd.DataFrame({\n",
    "    #'DAY': pd.to_datetime(data_chemnitz_kl['MESS_DATUM'], format='%Y%m%d'),\n",
    "    'DAY': data_chemnitz_kl['MESS_DATUM'],\n",
    "    'TMIN': data_chemnitz_kl['TNK'],  # Example: map to minimum temperature\n",
    "    'TMAX': data_chemnitz_kl['TXK'],  # Example: map to maximum temperature\n",
    "    'VAP': data_chemnitz_kl['VPM'],  # Example: map to vapor pressure\n",
    "    'RAIN': data_chemnitz_kl['RSK'] / 10,  # Convert mm to cm if needed\n",
    "    'IRRAD': data_chemnitz_solar['FG_STRAHL'] * 10000,  # Convert J/cm² to J/m²\n",
    "    'WIND': data_chemnitz_kl['FM'],  # Assuming this is the wind speed\n",
    "})\n",
    "\n",
    "#print(data_chemnitz_pcse)\n",
    "\n",
    "# Remove rows with any NaN values\n",
    "# data_cleaned = data_chemnitz_pcse.dropna()\n",
    "# print(data_cleaned)\n",
    "print(data_chemnitz_pcse.isna().sum())\n",
    "print(data_chemnitz_pcse.isna())\n",
    "\n",
    "# Filter the data for a specific date range (e.g., from 2009-01-01 to 2023-12-31)\n",
    "#data_chemnitz_filtered = data_chemnitz_pcse[data_chemnitz_pcse['DAY'] >= 20090101]\n",
    "#data_chemnitz_filtered.to_csv('data_chemnitz_filtered.csv', index=False, na_rep='NaN')\n",
    "\n",
    "\n",
    "# Write to CSV file without site characteristics\n",
    "#data_chemnitz_pcse.to_csv('data_chemnitz_pcse.csv', index=False, na_rep='NaN')\n"
   ]
  },
  {
   "cell_type": "code",
   "execution_count": 71,
   "id": "8673f6f8",
   "metadata": {},
   "outputs": [
    {
     "name": "stdout",
     "output_type": "stream",
     "text": [
      "CSV file with site characteristics created.\n"
     ]
    }
   ],
   "source": [
    "# Site characteristics as a string\n",
    "site_characteristics = \"\"\"## Site Characteristics\n",
    "Country     = 'Germany'\n",
    "Station     = 'Chemnitz'\n",
    "Description = 'Observed data from Station Chemnitz'\n",
    "Source      = 'Your Data Source'\n",
    "Contact     = 'Your Contact'\n",
    "Longitude = 12.92; Latitude = 50.83; Elevation = 300; AngstromA = 0.25; AngstromB = 0.50; HasSunshine = False\n",
    "## Daily weather observations (missing values are NaN)\n",
    "\"\"\"\n",
    "\n",
    "# Convert DataFrame to CSV string\n",
    "csv_data = data_chemnitz_pcse.to_csv(index=False, na_rep='NaN')\n",
    "\n",
    "# Combine site characteristics and CSV data\n",
    "full_csv_content = site_characteristics + csv_data\n",
    "\n",
    "# Write to CSV file\n",
    "with open('chemnitz_withMeta.csv', 'w') as f:\n",
    "    f.write(full_csv_content)\n",
    "\n",
    "print(\"CSV file with site characteristics created.\")"
   ]
  },
  {
   "cell_type": "markdown",
   "id": "357ca3f4",
   "metadata": {},
   "source": [
    "# Soil and Agro Data"
   ]
  },
  {
   "cell_type": "code",
   "execution_count": null,
   "id": "26c9ac79-6bcb-4da7-a1a3-d31567cf5420",
   "metadata": {},
   "outputs": [],
   "source": [
    "from pcse.util import DummySoilDataProvider\n",
    "from pcse.input import WOFOST72SiteDataProvider \n",
    "import yaml\n",
    "from pcse.base import ParameterProvider\n",
    "\n",
    "#load crop file\n",
    "with open('data/crop/potato.yaml', 'r') as file: #alternative: from pcse.input import YAMLCropDataProvider\n",
    "    yaml_file = yaml.safe_load(file)\n",
    "\n",
    "#flatten crop file: remove the nested structure\n",
    "def flatten_nested_dict(d):\n",
    "    flat = {}\n",
    "    for k, v in d.items():\n",
    "        if isinstance(v, dict):\n",
    "            flat.update(flatten_nested_dict(v))  # flatten recursively\n",
    "        else:\n",
    "            flat[k] = v\n",
    "    return flat\n",
    "\n",
    "cropd = {}\n",
    "for subdict in yaml_file[\"CropParameters\"].values():\n",
    "    if isinstance(subdict, dict):\n",
    "        cropd.update(flatten_nested_dict(subdict))\n",
    "\n",
    "#export to .yaml file (only for debugging purpose)\n",
    "with open(\"flattened_crop.yaml\", \"w\") as f_out:\n",
    "    yaml.dump(cropd, f_out, default_flow_style=False)\n",
    "\n",
    "#load dummy soil file\n",
    "soild = DummySoilDataProvider() #use dummy soil: https://pcse.readthedocs.io/en/stable/code.html#pcse.util.DummySoilDataProvider\n",
    "\n",
    "#load some standard site, WAV = initial soil moisture\n",
    "sited = WOFOST72SiteDataProvider(WAV=10) #https://pcse.readthedocs.io/en/stable/code.html#wofost72sitedataprovider\n",
    "\n",
    "#put everything together with ParameterProvider\n",
    "parameters = ParameterProvider(cropdata=cropd, soildata=soild, sitedata=sited)\n",
    "\n",
    "#agro file (is not completed yet)\n",
    "with open('data/agro/potato_agro_test.yaml', 'r') as file:\n",
    "    agromanagement = yaml.safe_load(file)"
   ]
  },
  {
   "cell_type": "markdown",
   "id": "a6d2ba23",
   "metadata": {},
   "source": [
    "running the model with the given files"
   ]
  },
  {
   "cell_type": "code",
   "execution_count": null,
   "id": "8e4870bb",
   "metadata": {},
   "outputs": [],
   "source": [
    "#running the model\n",
    "from pcse.models import Wofost72_WLP_CWB, Wofost72_PP\n",
    "wofsim = Wofost72_WLP_CWB(parameters, weatherdataprovider, agromanagement)\n",
    "\n",
    "wofsim.run(days=10)\n",
    "df_results = pd.DataFrame(wofsim.get_output())\n",
    "df_results = df_results.set_index(\"day\")\n",
    "df_results.tail()"
   ]
  }
 ],
 "metadata": {
  "kernelspec": {
   "display_name": "Python 3 (ipykernel)",
   "language": "python",
   "name": "python3"
  },
  "language_info": {
   "codemirror_mode": {
    "name": "ipython",
    "version": 3
   },
   "file_extension": ".py",
   "mimetype": "text/x-python",
   "name": "python",
   "nbconvert_exporter": "python",
   "pygments_lexer": "ipython3",
   "version": "3.10.16"
  }
 },
 "nbformat": 4,
 "nbformat_minor": 5
}
